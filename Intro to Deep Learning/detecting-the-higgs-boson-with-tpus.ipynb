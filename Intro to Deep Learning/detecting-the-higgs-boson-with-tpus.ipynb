{
 "cells": [
  {
   "cell_type": "markdown",
   "metadata": {
    "papermill": {
     "duration": 0.013478,
     "end_time": "2020-10-12T18:29:31.624039",
     "exception": false,
     "start_time": "2020-10-12T18:29:31.610561",
     "status": "completed"
    },
    "tags": []
   },
   "source": [
    "# Searching for the Higgs Boson #\n",
    "\n",
    "The Standard Model is a theory in particle physics that describes some of the most basic forces of nature. One fundamental particle, the Higgs boson, is what accounts for the *mass* of matter. First theorized in the 1964, the Higgs boson eluded observation for almost fifty years. In 2012 it was finally observed experimentally at the Large Hadron Collider. These experiments produced millions of gigabytes of data.\n",
    "\n",
    "Large and complicated datasets like these are where deep learning excels. In this notebook, we'll build a Wide and Deep neural network to determine whether an observed particle collision produced a Higgs boson or not.\n",
    "\n",
    "# The Collision Data #\n",
    "\n",
    "The collision of protons at high energy can produce new particles like the Higgs boson. These particles can't be directly observed, however, since they decay almost instantly. So to detect the presence of a new particle, we instead obesrve the behavior of the particles they decay into, their \"decay products\".\n",
    "\n",
    "The *Higgs* dataset contains 21 \"low-level\" features of the decay products and also 7 more \"high-level\" features derived from these.\n",
    "\n",
    "# Wide and Deep Neural Networks #\n",
    "\n",
    "A *Wide and Deep* network trains a linear layer side-by-side with a deep stack of dense layers. Wide and Deep networks are often effective on tabular datasets.[^1]\n",
    "\n",
    "Both the dataset and the model are much larger than what we used in the course. To speed up training, we'll use Kaggle's [Tensor Processing Units](https://www.kaggle.com/docs/tpu) (TPUs), an accelerator ideal for large workloads.\n",
    "\n",
    "We've collected some hyperparameters here to make experimentation easier. Fork this notebook by [**clicking here**](https://www.kaggle.com/kernels/fork/12171965) to try it yourself!"
   ]
  },
  {
   "cell_type": "code",
   "execution_count": 1,
   "metadata": {
    "execution": {
     "iopub.execute_input": "2020-10-12T18:29:31.654596Z",
     "iopub.status.busy": "2020-10-12T18:29:31.653763Z",
     "iopub.status.idle": "2020-10-12T18:29:31.656230Z",
     "shell.execute_reply": "2020-10-12T18:29:31.656855Z"
    },
    "papermill": {
     "duration": 0.020729,
     "end_time": "2020-10-12T18:29:31.657034",
     "exception": false,
     "start_time": "2020-10-12T18:29:31.636305",
     "status": "completed"
    },
    "tags": []
   },
   "outputs": [],
   "source": [
    "# Model Configuration\n",
    "UNITS = 2 ** 11 # 2048\n",
    "ACTIVATION = 'relu'\n",
    "DROPOUT = 0.1\n",
    "\n",
    "# Training Configuration\n",
    "BATCH_SIZE_PER_REPLICA = 2 ** 11 # powers of 128 are best"
   ]
  },
  {
   "cell_type": "markdown",
   "metadata": {
    "papermill": {
     "duration": 0.01189,
     "end_time": "2020-10-12T18:29:31.681430",
     "exception": false,
     "start_time": "2020-10-12T18:29:31.669540",
     "status": "completed"
    },
    "tags": []
   },
   "source": [
    "The next few sections set up the TPU computation, data pipeline, and neural network model. If you'd just like to see the results, feel free to skip to the end!\n",
    "\n",
    "# Setup #\n",
    "\n",
    "In addition to our imports, this section contains some code that will connect our notebook to the TPU and create a **distribution strategy**. Each TPU has eight computational cores acting independently. With a distribution strategy, we define how we want to divide up the work between them."
   ]
  },
  {
   "cell_type": "code",
   "execution_count": 2,
   "metadata": {
    "execution": {
     "iopub.execute_input": "2020-10-12T18:29:31.718456Z",
     "iopub.status.busy": "2020-10-12T18:29:31.717642Z",
     "iopub.status.idle": "2020-10-12T18:29:41.818049Z",
     "shell.execute_reply": "2020-10-12T18:29:41.818706Z"
    },
    "papermill": {
     "duration": 10.125353,
     "end_time": "2020-10-12T18:29:41.818866",
     "exception": false,
     "start_time": "2020-10-12T18:29:31.693513",
     "status": "completed"
    },
    "tags": []
   },
   "outputs": [
    {
     "name": "stdout",
     "output_type": "stream",
     "text": [
      "Tensorflow version 2.2.0\n",
      "Number of accelerators:  8\n"
     ]
    }
   ],
   "source": [
    "# TensorFlow\n",
    "import tensorflow as tf\n",
    "print(\"Tensorflow version \" + tf.__version__)\n",
    "\n",
    "# TF 2.3 version\n",
    "# Detect and init the TPU\n",
    "# try: # detect TPUs\n",
    "#     tpu = tf.distribute.cluster_resolver.TPUClusterResolver.connect() # TPU detection\n",
    "#     strategy = tf.distribute.TPUStrategy(tpu)\n",
    "# except ValueError: # detect GPUs\n",
    "#     strategy = tf.distribute.get_strategy() # default strategy that works on CPU and single GPU\n",
    "# print(\"Number of accelerators: \", strategy.num_replicas_in_sync)\n",
    "\n",
    "# TF 2.2 version\n",
    "try:\n",
    "    tpu = tf.distribute.cluster_resolver.TPUClusterResolver()\n",
    "    tf.config.experimental_connect_to_cluster(tpu)\n",
    "    tf.tpu.experimental.initialize_tpu_system(tpu)\n",
    "    strategy = tf.distribute.experimental.TPUStrategy(tpu)\n",
    "except ValueError:\n",
    "    strategy = tf.distribute.get_strategy() # default strategy that works on CPU and single GPU\n",
    "print(\"Number of accelerators: \", strategy.num_replicas_in_sync)\n",
    "    \n",
    "# Plotting\n",
    "import pandas as pd\n",
    "import matplotlib.pyplot as plt\n",
    "\n",
    "# Matplotlib defaults\n",
    "plt.style.use('seaborn-whitegrid')\n",
    "plt.rc('figure', autolayout=True)\n",
    "plt.rc('axes', labelweight='bold', labelsize='large',\n",
    "       titleweight='bold', titlesize=18, titlepad=10)\n",
    "\n",
    "\n",
    "# Data\n",
    "from kaggle_datasets import KaggleDatasets\n",
    "from tensorflow.io import FixedLenFeature\n",
    "AUTO = tf.data.experimental.AUTOTUNE\n",
    "\n",
    "\n",
    "# Model\n",
    "from tensorflow import keras\n",
    "from tensorflow.keras import layers\n",
    "from tensorflow.keras import callbacks"
   ]
  },
  {
   "cell_type": "markdown",
   "metadata": {
    "papermill": {
     "duration": 0.012783,
     "end_time": "2020-10-12T18:29:41.845168",
     "exception": false,
     "start_time": "2020-10-12T18:29:41.832385",
     "status": "completed"
    },
    "tags": []
   },
   "source": [
    "Notice that TensorFlow now detects eight accelerators. Using a TPU is a bit like using eight GPUs at once.\n",
    "\n",
    "# Load Data #\n",
    "\n",
    "The dataset has been encoded in a binary file format called *TFRecords*. These two functions will parse the TFRecords and build a TensorFlow `tf.data.Dataset` object that we can use for training."
   ]
  },
  {
   "cell_type": "code",
   "execution_count": 3,
   "metadata": {
    "execution": {
     "iopub.execute_input": "2020-10-12T18:29:41.882629Z",
     "iopub.status.busy": "2020-10-12T18:29:41.881696Z",
     "iopub.status.idle": "2020-10-12T18:29:41.885722Z",
     "shell.execute_reply": "2020-10-12T18:29:41.884994Z"
    },
    "papermill": {
     "duration": 0.027507,
     "end_time": "2020-10-12T18:29:41.885848",
     "exception": false,
     "start_time": "2020-10-12T18:29:41.858341",
     "status": "completed"
    },
    "tags": []
   },
   "outputs": [],
   "source": [
    "def make_decoder(feature_description):\n",
    "    def decoder(example):\n",
    "        example = tf.io.parse_single_example(example, feature_description)\n",
    "        features = tf.io.parse_tensor(example['features'], tf.float32)\n",
    "        features = tf.reshape(features, [28])\n",
    "        label = example['label']\n",
    "        return features, label\n",
    "    return decoder\n",
    "\n",
    "def load_dataset(filenames, decoder, ordered=False):\n",
    "    AUTO = tf.data.experimental.AUTOTUNE\n",
    "    ignore_order = tf.data.Options()\n",
    "    if not ordered:\n",
    "        ignore_order.experimental_deterministic = False\n",
    "    dataset = (\n",
    "        tf.data\n",
    "        .TFRecordDataset(filenames, num_parallel_reads=AUTO)\n",
    "        .with_options(ignore_order)\n",
    "        .map(decoder, AUTO)\n",
    "    )\n",
    "    return dataset"
   ]
  },
  {
   "cell_type": "code",
   "execution_count": 4,
   "metadata": {
    "execution": {
     "iopub.execute_input": "2020-10-12T18:29:41.919527Z",
     "iopub.status.busy": "2020-10-12T18:29:41.918684Z",
     "iopub.status.idle": "2020-10-12T18:29:41.921987Z",
     "shell.execute_reply": "2020-10-12T18:29:41.922539Z"
    },
    "papermill": {
     "duration": 0.023365,
     "end_time": "2020-10-12T18:29:41.922696",
     "exception": false,
     "start_time": "2020-10-12T18:29:41.899331",
     "status": "completed"
    },
    "tags": []
   },
   "outputs": [],
   "source": [
    "dataset_size = int(11e6)\n",
    "validation_size = int(5e5)\n",
    "training_size = dataset_size - validation_size\n",
    "\n",
    "# For model.fit\n",
    "batch_size = BATCH_SIZE_PER_REPLICA * strategy.num_replicas_in_sync\n",
    "steps_per_epoch = training_size // batch_size\n",
    "validation_steps = validation_size // batch_size\n",
    "\n",
    "# For model.compile\n",
    "steps_per_execution = steps_per_epoch"
   ]
  },
  {
   "cell_type": "code",
   "execution_count": 5,
   "metadata": {
    "execution": {
     "iopub.execute_input": "2020-10-12T18:29:41.972818Z",
     "iopub.status.busy": "2020-10-12T18:29:41.961565Z",
     "iopub.status.idle": "2020-10-12T18:29:50.487332Z",
     "shell.execute_reply": "2020-10-12T18:29:50.486562Z"
    },
    "papermill": {
     "duration": 8.551278,
     "end_time": "2020-10-12T18:29:50.487478",
     "exception": false,
     "start_time": "2020-10-12T18:29:41.936200",
     "status": "completed"
    },
    "tags": []
   },
   "outputs": [],
   "source": [
    "feature_description = {\n",
    "    'features': FixedLenFeature([], tf.string),\n",
    "    'label': FixedLenFeature([], tf.float32),\n",
    "}\n",
    "decoder = make_decoder(feature_description)\n",
    "\n",
    "data_dir = KaggleDatasets().get_gcs_path('higgs-boson')\n",
    "train_files = tf.io.gfile.glob(data_dir + '/training' + '/*.tfrecord')\n",
    "valid_files = tf.io.gfile.glob(data_dir + '/validation' + '/*.tfrecord')\n",
    "\n",
    "ds_train = load_dataset(train_files, decoder, ordered=False)\n",
    "ds_train = (\n",
    "    ds_train\n",
    "    .cache()\n",
    "    .repeat()\n",
    "    .shuffle(2 ** 19)\n",
    "    .batch(batch_size)\n",
    "    .prefetch(AUTO)\n",
    ")\n",
    "\n",
    "ds_valid = load_dataset(valid_files, decoder, ordered=False)\n",
    "ds_valid = (\n",
    "    ds_valid\n",
    "    .batch(batch_size)\n",
    "    .cache()\n",
    "    .prefetch(AUTO)\n",
    ")"
   ]
  },
  {
   "cell_type": "markdown",
   "metadata": {
    "papermill": {
     "duration": 0.013663,
     "end_time": "2020-10-12T18:29:50.517013",
     "exception": false,
     "start_time": "2020-10-12T18:29:50.503350",
     "status": "completed"
    },
    "tags": []
   },
   "source": [
    "# Model #\n",
    "\n",
    "Now that the data is ready, let's define the network. We're defining the deep branch of the network using Keras's *Functional API*, which is a bit more flexible that the `Sequential` method we used in the course.\n"
   ]
  },
  {
   "cell_type": "code",
   "execution_count": 6,
   "metadata": {
    "execution": {
     "iopub.execute_input": "2020-10-12T18:29:50.561133Z",
     "iopub.status.busy": "2020-10-12T18:29:50.560341Z",
     "iopub.status.idle": "2020-10-12T18:29:51.989491Z",
     "shell.execute_reply": "2020-10-12T18:29:51.988637Z"
    },
    "papermill": {
     "duration": 1.458236,
     "end_time": "2020-10-12T18:29:51.989619",
     "exception": false,
     "start_time": "2020-10-12T18:29:50.531383",
     "status": "completed"
    },
    "tags": []
   },
   "outputs": [],
   "source": [
    "def dense_block(units, activation, dropout_rate, l1=None, l2=None):\n",
    "    def make(inputs):\n",
    "        x = layers.Dense(units)(inputs)\n",
    "        x = layers.BatchNormalization()(x)\n",
    "        x = layers.Activation(activation)(x)\n",
    "        x = layers.Dropout(dropout_rate)(x)\n",
    "        return x\n",
    "    return make\n",
    "\n",
    "with strategy.scope():\n",
    "    # Wide Network\n",
    "    wide = keras.experimental.LinearModel()\n",
    "\n",
    "    # Deep Network\n",
    "    inputs = keras.Input(shape=[28])\n",
    "    x = dense_block(UNITS, ACTIVATION, DROPOUT)(inputs)\n",
    "    x = dense_block(UNITS, ACTIVATION, DROPOUT)(x)\n",
    "    x = dense_block(UNITS, ACTIVATION, DROPOUT)(x)\n",
    "    x = dense_block(UNITS, ACTIVATION, DROPOUT)(x)\n",
    "    x = dense_block(UNITS, ACTIVATION, DROPOUT)(x)\n",
    "    outputs = layers.Dense(1)(x)\n",
    "    deep = keras.Model(inputs=inputs, outputs=outputs)\n",
    "    \n",
    "    # Wide and Deep Network\n",
    "    wide_and_deep = keras.experimental.WideDeepModel(\n",
    "        linear_model=wide,\n",
    "        dnn_model=deep,\n",
    "        activation='sigmoid',\n",
    "    )\n",
    "\n",
    "wide_and_deep.compile(\n",
    "    loss='binary_crossentropy',\n",
    "    optimizer='adam',\n",
    "    metrics=['AUC', 'binary_accuracy'],\n",
    "#     experimental_steps_per_execution=steps_per_execution,\n",
    ")"
   ]
  },
  {
   "cell_type": "markdown",
   "metadata": {
    "papermill": {
     "duration": 0.014165,
     "end_time": "2020-10-12T18:29:52.019414",
     "exception": false,
     "start_time": "2020-10-12T18:29:52.005249",
     "status": "completed"
    },
    "tags": []
   },
   "source": [
    "# Training #\n",
    "\n",
    "During training, we'll use the `EarlyStopping` callback as usual. Notice that we've also defined a **learning rate schedule**. It's been found that gradually decreasing the learning rate over the course of training can improve performance (the weights \"settle in\" to a minimum). This schedule will multiply the learning rate by `0.2` if the validation loss didn't decrease after an epoch."
   ]
  },
  {
   "cell_type": "code",
   "execution_count": 7,
   "metadata": {
    "execution": {
     "iopub.execute_input": "2020-10-12T18:29:52.054426Z",
     "iopub.status.busy": "2020-10-12T18:29:52.053684Z",
     "iopub.status.idle": "2020-10-12T18:29:52.056693Z",
     "shell.execute_reply": "2020-10-12T18:29:52.055969Z"
    },
    "lines_to_next_cell": 2,
    "papermill": {
     "duration": 0.023079,
     "end_time": "2020-10-12T18:29:52.056821",
     "exception": false,
     "start_time": "2020-10-12T18:29:52.033742",
     "status": "completed"
    },
    "tags": []
   },
   "outputs": [],
   "source": [
    "early_stopping = callbacks.EarlyStopping(\n",
    "    patience=2,\n",
    "    min_delta=0.001,\n",
    "    restore_best_weights=True,\n",
    ")\n",
    "\n",
    "lr_schedule = callbacks.ReduceLROnPlateau(\n",
    "    patience=0,\n",
    "    factor=0.2,\n",
    "    min_lr=0.001,\n",
    ")"
   ]
  },
  {
   "cell_type": "code",
   "execution_count": 8,
   "metadata": {
    "execution": {
     "iopub.execute_input": "2020-10-12T18:29:52.092944Z",
     "iopub.status.busy": "2020-10-12T18:29:52.091895Z",
     "iopub.status.idle": "2020-10-12T18:42:03.498155Z",
     "shell.execute_reply": "2020-10-12T18:42:03.497453Z"
    },
    "papermill": {
     "duration": 731.427269,
     "end_time": "2020-10-12T18:42:03.498292",
     "exception": false,
     "start_time": "2020-10-12T18:29:52.071023",
     "status": "completed"
    },
    "tags": []
   },
   "outputs": [
    {
     "name": "stdout",
     "output_type": "stream",
     "text": [
      "Epoch 1/50\n",
      "640/640 [==============================] - 172s 269ms/step - auc: 0.7856 - binary_accuracy: 0.7117 - loss: 0.5653 - val_auc: 0.8320 - val_binary_accuracy: 0.7487 - val_loss: 0.5026 - lr: 0.0010\n",
      "Epoch 2/50\n",
      "640/640 [==============================] - 32s 50ms/step - auc: 0.8401 - binary_accuracy: 0.7571 - loss: 0.4903 - val_auc: 0.8501 - val_binary_accuracy: 0.7650 - val_loss: 0.4779 - lr: 0.0010\n",
      "Epoch 3/50\n",
      "640/640 [==============================] - 31s 49ms/step - auc: 0.8503 - binary_accuracy: 0.7663 - loss: 0.4761 - val_auc: 0.8557 - val_binary_accuracy: 0.7710 - val_loss: 0.4684 - lr: 0.0010\n",
      "Epoch 4/50\n",
      "640/640 [==============================] - 31s 48ms/step - auc: 0.8557 - binary_accuracy: 0.7712 - loss: 0.4685 - val_auc: 0.8589 - val_binary_accuracy: 0.7742 - val_loss: 0.4641 - lr: 0.0010\n",
      "Epoch 5/50\n",
      "640/640 [==============================] - 31s 48ms/step - auc: 0.8599 - binary_accuracy: 0.7752 - loss: 0.4623 - val_auc: 0.8628 - val_binary_accuracy: 0.7775 - val_loss: 0.4585 - lr: 0.0010\n",
      "Epoch 6/50\n",
      "640/640 [==============================] - 31s 48ms/step - auc: 0.8634 - binary_accuracy: 0.7786 - loss: 0.4572 - val_auc: 0.8663 - val_binary_accuracy: 0.7810 - val_loss: 0.4526 - lr: 0.0010\n",
      "Epoch 7/50\n",
      "640/640 [==============================] - 33s 51ms/step - auc: 0.8666 - binary_accuracy: 0.7816 - loss: 0.4523 - val_auc: 0.8705 - val_binary_accuracy: 0.7850 - val_loss: 0.4463 - lr: 0.0010\n",
      "Epoch 8/50\n",
      "640/640 [==============================] - 33s 51ms/step - auc: 0.8695 - binary_accuracy: 0.7844 - loss: 0.4478 - val_auc: 0.8719 - val_binary_accuracy: 0.7862 - val_loss: 0.4447 - lr: 0.0010\n",
      "Epoch 9/50\n",
      "640/640 [==============================] - 31s 49ms/step - auc: 0.8720 - binary_accuracy: 0.7869 - loss: 0.4439 - val_auc: 0.8747 - val_binary_accuracy: 0.7894 - val_loss: 0.4396 - lr: 0.0010\n",
      "Epoch 10/50\n",
      "640/640 [==============================] - 31s 48ms/step - auc: 0.8745 - binary_accuracy: 0.7892 - loss: 0.4401 - val_auc: 0.8764 - val_binary_accuracy: 0.7908 - val_loss: 0.4372 - lr: 0.0010\n",
      "Epoch 11/50\n",
      "640/640 [==============================] - 32s 50ms/step - auc: 0.8767 - binary_accuracy: 0.7914 - loss: 0.4365 - val_auc: 0.8785 - val_binary_accuracy: 0.7933 - val_loss: 0.4335 - lr: 0.0010\n",
      "Epoch 12/50\n",
      "640/640 [==============================] - 32s 50ms/step - auc: 0.8788 - binary_accuracy: 0.7937 - loss: 0.4330 - val_auc: 0.8796 - val_binary_accuracy: 0.7947 - val_loss: 0.4318 - lr: 0.0010\n",
      "Epoch 13/50\n",
      "640/640 [==============================] - 32s 50ms/step - auc: 0.8810 - binary_accuracy: 0.7957 - loss: 0.4296 - val_auc: 0.8795 - val_binary_accuracy: 0.7944 - val_loss: 0.4325 - lr: 0.0010\n",
      "Epoch 14/50\n",
      "640/640 [==============================] - 31s 49ms/step - auc: 0.8830 - binary_accuracy: 0.7978 - loss: 0.4263 - val_auc: 0.8816 - val_binary_accuracy: 0.7963 - val_loss: 0.4293 - lr: 0.0010\n",
      "Epoch 15/50\n",
      "640/640 [==============================] - 32s 50ms/step - auc: 0.8849 - binary_accuracy: 0.7996 - loss: 0.4231 - val_auc: 0.8826 - val_binary_accuracy: 0.7967 - val_loss: 0.4268 - lr: 0.0010\n",
      "Epoch 16/50\n",
      "640/640 [==============================] - 31s 49ms/step - auc: 0.8868 - binary_accuracy: 0.8017 - loss: 0.4198 - val_auc: 0.8840 - val_binary_accuracy: 0.7987 - val_loss: 0.4250 - lr: 0.0010\n",
      "Epoch 17/50\n",
      "640/640 [==============================] - 31s 49ms/step - auc: 0.8886 - binary_accuracy: 0.8036 - loss: 0.4167 - val_auc: 0.8839 - val_binary_accuracy: 0.7989 - val_loss: 0.4250 - lr: 0.0010\n",
      "Epoch 18/50\n",
      "640/640 [==============================] - 33s 51ms/step - auc: 0.8906 - binary_accuracy: 0.8055 - loss: 0.4133 - val_auc: 0.8845 - val_binary_accuracy: 0.7992 - val_loss: 0.4252 - lr: 0.0010\n"
     ]
    }
   ],
   "source": [
    "history = wide_and_deep.fit(\n",
    "    ds_train,\n",
    "    validation_data=ds_valid,\n",
    "    epochs=50,\n",
    "    steps_per_epoch=steps_per_epoch,\n",
    "    validation_steps=validation_steps,\n",
    "    callbacks=[early_stopping, lr_schedule],\n",
    ")"
   ]
  },
  {
   "cell_type": "code",
   "execution_count": 9,
   "metadata": {
    "execution": {
     "iopub.execute_input": "2020-10-12T18:42:09.223391Z",
     "iopub.status.busy": "2020-10-12T18:42:09.222574Z",
     "iopub.status.idle": "2020-10-12T18:42:09.804021Z",
     "shell.execute_reply": "2020-10-12T18:42:09.803330Z"
    },
    "papermill": {
     "duration": 3.440548,
     "end_time": "2020-10-12T18:42:09.804155",
     "exception": false,
     "start_time": "2020-10-12T18:42:06.363607",
     "status": "completed"
    },
    "tags": []
   },
   "outputs": [
    {
     "data": {
      "image/png": "[encoded data removed]",
      "text/plain": [
       "<Figure size 432x288 with 1 Axes>"
      ]
     },
     "metadata": {},
     "output_type": "display_data"
    },
    {
     "data": {
      "image/png": "[encoded data removed]",
      "text/plain": [
       "<Figure size 432x288 with 1 Axes>"
      ]
     },
     "metadata": {},
     "output_type": "display_data"
    }
   ],
   "source": [
    "history_frame = pd.DataFrame(history.history)\n",
    "history_frame.loc[:, ['loss', 'val_loss']].plot(title='Cross-entropy Loss')\n",
    "history_frame.loc[:, ['auc', 'val_auc']].plot(title='AUC');"
   ]
  },
  {
   "cell_type": "markdown",
   "metadata": {
    "papermill": {
     "duration": 2.911321,
     "end_time": "2020-10-12T18:42:15.598329",
     "exception": false,
     "start_time": "2020-10-12T18:42:12.687008",
     "status": "completed"
    },
    "tags": []
   },
   "source": [
    "# References #\n",
    "\n",
    "- Baldi, P. et al. *Searching for Exotic Particles in High-Energy Physics with Deep Learning*. (2014) ([arXiv](https://arxiv.org/abs/1402.4735))\n",
    "- Cheng, H. et al. *Wide & Deep Learning for Recommender Systems*. (2016) ([arXiv](https://arxiv.org/abs/1606.07792))\n",
    "- *What Exactly is the Higgs Boson?* Scientific American. (1999) [(article)](https://www.scientificamerican.com/article/what-exactly-is-the-higgs/)]\n",
    "\n",
    "[^1]: In the original implementation, categorical features were one-hot encoded and crossed to produce the interaction features. This \"wide\" dataset was used with the linear component. For the deep component, the categories were encoded into a much narrower embedding layer."
   ]
  },
  {
   "cell_type": "markdown",
   "metadata": {
    "papermill": {
     "duration": 2.944795,
     "end_time": "2020-10-12T18:42:21.406681",
     "exception": false,
     "start_time": "2020-10-12T18:42:18.461886",
     "status": "completed"
    },
    "tags": []
   },
   "source": [
    "---\n",
    "\n",
    "\n",
    "\n",
    "\n",
    "*Have questions or comments? Visit the [Learn Discussion forum](https://www.kaggle.com/learn-forum) to chat with other Learners.*"
   ]
  }
 ],
 "metadata": {
  "kernelspec": {
   "display_name": "Python 3",
   "language": "python",
   "name": "python3"
  },
  "language_info": {
   "codemirror_mode": {
    "name": "ipython",
    "version": 3
   },
   "file_extension": ".py",
   "mimetype": "text/x-python",
   "name": "python",
   "nbconvert_exporter": "python",
   "pygments_lexer": "ipython3",
   "version": "3.7.6"
  },
  "papermill": {
   "duration": 777.25123,
   "end_time": "2020-10-12T18:42:24.338259",
   "environment_variables": {},
   "exception": null,
   "input_path": "__notebook__.ipynb",
   "output_path": "__notebook__.ipynb",
   "parameters": {},
   "start_time": "2020-10-12T18:29:27.087029",
   "version": "2.1.0"
  }
 },
 "nbformat": 4,
 "nbformat_minor": 4
}
