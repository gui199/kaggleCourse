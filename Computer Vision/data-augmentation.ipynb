{
 "cells": [
  {
   "cell_type": "markdown",
   "metadata": {
    "papermill": {
     "duration": 0.008621,
     "end_time": "2020-11-11T16:38:05.783452",
     "exception": false,
     "start_time": "2020-11-11T16:38:05.774831",
     "status": "completed"
    },
    "tags": []
   },
   "source": [
    "<!--TITLE:Data Augmentation-->\n",
    "\n",
    "# Introduction #\n",
    "\n",
    "Now that you've learned the fundamentals of convolutional classifiers, you're ready to move on to more advanced topics.\n",
    "\n",
    "In this lesson, you'll learn a trick that can give a boost to your image classifiers: it's called **data augmentation**. "
   ]
  },
  {
   "cell_type": "markdown",
   "metadata": {
    "papermill": {
     "duration": 0.006838,
     "end_time": "2020-11-11T16:38:05.799264",
     "exception": false,
     "start_time": "2020-11-11T16:38:05.792426",
     "status": "completed"
    },
    "tags": []
   },
   "source": [
    "# The Usefulness of Fake Data #\n",
    "\n",
    "The best way to improve the performance of a machine learning model is to train it on more data. The more examples the model has to learn from, the better it will be able to recognize which differences in images matter and which do not. More data helps the model to *generalize* better.\n",
    "\n",
    "One easy way of getting more data is to use the data you already have. If we can transform the images in our dataset in ways that preserve the class, we can teach our classifier to ignore those kinds of transformations. For instance, whether a car is facing left or right in a photo doesn't change the fact that it is a *Car* and not a *Truck*. So, if we **augment** our training data with flipped images, our classifier will learn that \"left or right\" is a difference it should ignore.\n",
    "\n",
    "And that's the whole idea behind data augmentation: add in some extra fake data that looks reasonably like the real data and your classifier will improve.\n",
    "\n",
    "# Using Data Augmentation #\n",
    "\n",
    "Typically, many kinds of transformation are used when augmenting a dataset. These might include rotating the image, adjusting the color or contrast, warping the image, or many other things, usually applied in combination. Here is a sample of the different ways a single image might be transformed.\n",
    "\n",
    "<figure>\n",
    "<img src=\"https://i.imgur.com/UaOm0ms.png\" width=400, alt=\"Sixteen transformations of a single image of a car.\">\n",
    "</figure>\n",
    "\n",
    "Data augmentation is usually done *online*, meaning, as the images are being fed into the network for training. Recall that training is usually done on mini-batches of data. This is what a batch of 16 images might look like when data augmentation is used.\n",
    "\n",
    "<figure>\n",
    "<img src=\"https://i.imgur.com/MFviYoE.png\" width=400, alt=\"A batch of 16 images with various random transformations applied.\">\n",
    "</figure>\n",
    "\n",
    "Each time an image is used during training, a new random transformation is applied. This way, the model is always seeing something a little different than what it's seen before. This extra variance in the training data is what helps the model on new data.\n",
    "\n",
    "It's important to remember though that not every transformation will be useful on a given problem. Most importantly, whatever transformations you use should not mix up the classes. If you were training a [digit recognizer](https://www.kaggle.com/c/digit-recognizer), for instance, rotating images would mix up '9's and '6's. In the end, the best approach for finding good augmentations is the same as with most ML problems: try it and see!\n",
    "\n",
    "# Example - Training with Data Augmentation #\n",
    "\n",
    "Keras lets you augment your data in two ways. The first way is to include it in the data pipeline with a function like [`ImageDataGenerator`](https://www.tensorflow.org/api_docs/python/tf/keras/preprocessing/image/ImageDataGenerator). The second way is to include it in the model definition by using Keras's **preprocessing layers**. This is the approach that we'll take. The primary advantage for us is that the image transformations will be computed on the GPU instead of the CPU, potentially speeding up training.\n",
    "\n",
    "In this exercise, we'll learn how to improve the classifier from Lesson 1 through data augmentation. This next hidden cell sets up the data pipeline."
   ]
  },
  {
   "cell_type": "code",
   "execution_count": 1,
   "metadata": {
    "_kg_hide-input": true,
    "execution": {
     "iopub.execute_input": "2020-11-11T16:38:05.831189Z",
     "iopub.status.busy": "2020-11-11T16:38:05.830262Z",
     "iopub.status.idle": "2020-11-11T16:38:15.037362Z",
     "shell.execute_reply": "2020-11-11T16:38:15.037910Z"
    },
    "papermill": {
     "duration": 9.231798,
     "end_time": "2020-11-11T16:38:15.038135",
     "exception": false,
     "start_time": "2020-11-11T16:38:05.806337",
     "status": "completed"
    },
    "tags": []
   },
   "outputs": [
    {
     "name": "stdout",
     "output_type": "stream",
     "text": [
      "Found 5117 files belonging to 2 classes.\n",
      "Found 5051 files belonging to 2 classes.\n"
     ]
    }
   ],
   "source": [
    "\n",
    "# Imports\n",
    "import os, warnings\n",
    "import matplotlib.pyplot as plt\n",
    "from matplotlib import gridspec\n",
    "\n",
    "import numpy as np\n",
    "import tensorflow as tf\n",
    "from tensorflow.keras.preprocessing import image_dataset_from_directory\n",
    "\n",
    "# Reproducability\n",
    "def set_seed(seed=31415):\n",
    "    np.random.seed(seed)\n",
    "    tf.random.set_seed(seed)\n",
    "    os.environ['PYTHONHASHSEED'] = str(seed)\n",
    "    os.environ['TF_DETERMINISTIC_OPS'] = '1'\n",
    "set_seed()\n",
    "\n",
    "# Set Matplotlib defaults\n",
    "plt.rc('figure', autolayout=True)\n",
    "plt.rc('axes', labelweight='bold', labelsize='large',\n",
    "       titleweight='bold', titlesize=18, titlepad=10)\n",
    "plt.rc('image', cmap='magma')\n",
    "warnings.filterwarnings(\"ignore\") # to clean up output cells\n",
    "\n",
    "\n",
    "# Load training and validation sets\n",
    "ds_train_ = image_dataset_from_directory(\n",
    "    '../input/car-or-truck/train',\n",
    "    labels='inferred',\n",
    "    label_mode='binary',\n",
    "    image_size=[128, 128],\n",
    "    interpolation='nearest',\n",
    "    batch_size=64,\n",
    "    shuffle=True,\n",
    ")\n",
    "ds_valid_ = image_dataset_from_directory(\n",
    "    '../input/car-or-truck/valid',\n",
    "    labels='inferred',\n",
    "    label_mode='binary',\n",
    "    image_size=[128, 128],\n",
    "    interpolation='nearest',\n",
    "    batch_size=64,\n",
    "    shuffle=False,\n",
    ")\n",
    "\n",
    "# Data Pipeline\n",
    "def convert_to_float(image, label):\n",
    "    image = tf.image.convert_image_dtype(image, dtype=tf.float32)\n",
    "    return image, label\n",
    "\n",
    "AUTOTUNE = tf.data.experimental.AUTOTUNE\n",
    "ds_train = (\n",
    "    ds_train_\n",
    "    .map(convert_to_float)\n",
    "    .cache()\n",
    "    .prefetch(buffer_size=AUTOTUNE)\n",
    ")\n",
    "ds_valid = (\n",
    "    ds_valid_\n",
    "    .map(convert_to_float)\n",
    "    .cache()\n",
    "    .prefetch(buffer_size=AUTOTUNE)\n",
    ")\n"
   ]
  },
  {
   "cell_type": "markdown",
   "metadata": {
    "papermill": {
     "duration": 0.008395,
     "end_time": "2020-11-11T16:38:15.056384",
     "exception": false,
     "start_time": "2020-11-11T16:38:15.047989",
     "status": "completed"
    },
    "tags": []
   },
   "source": [
    "## Step 2 - Define Model ##\n",
    "\n",
    "To illustrate the effect of augmentation, we'll just add a couple of simple transformations to the model from Tutorial 1."
   ]
  },
  {
   "cell_type": "code",
   "execution_count": 2,
   "metadata": {
    "execution": {
     "iopub.execute_input": "2020-11-11T16:38:15.081143Z",
     "iopub.status.busy": "2020-11-11T16:38:15.080029Z",
     "iopub.status.idle": "2020-11-11T16:38:16.170548Z",
     "shell.execute_reply": "2020-11-11T16:38:16.169030Z"
    },
    "papermill": {
     "duration": 1.1061,
     "end_time": "2020-11-11T16:38:16.170672",
     "exception": false,
     "start_time": "2020-11-11T16:38:15.064572",
     "status": "completed"
    },
    "tags": []
   },
   "outputs": [],
   "source": [
    "import tensorflow.keras as keras\n",
    "import tensorflow.keras.layers as layers\n",
    "# these are a new feature in TF 2.2\n",
    "import tensorflow.keras.layers.experimental.preprocessing as preprocessing\n",
    "\n",
    "\n",
    "pretrained_base = tf.keras.models.load_model(\n",
    "    '../input/cv-course-models/cv-course-models/vgg16-pretrained-base',\n",
    ")\n",
    "pretrained_base.trainable = False\n",
    "\n",
    "model = keras.Sequential([\n",
    "    # Preprocessing\n",
    "    preprocessing.RandomFlip('horizontal'), # flip left-to-right\n",
    "    preprocessing.RandomContrast(0.5), # contrast change by up to 50%\n",
    "    # Base\n",
    "    pretrained_base,\n",
    "    # Head\n",
    "    layers.Flatten(),\n",
    "    layers.Dense(6, activation='relu'),\n",
    "    layers.Dense(1, activation='sigmoid'),\n",
    "])"
   ]
  },
  {
   "cell_type": "markdown",
   "metadata": {
    "papermill": {
     "duration": 0.007955,
     "end_time": "2020-11-11T16:38:16.187136",
     "exception": false,
     "start_time": "2020-11-11T16:38:16.179181",
     "status": "completed"
    },
    "tags": []
   },
   "source": [
    "## Step 3 - Train and Evaluate ##\n",
    "\n",
    "And now we'll start the training!"
   ]
  },
  {
   "cell_type": "code",
   "execution_count": 3,
   "metadata": {
    "execution": {
     "iopub.execute_input": "2020-11-11T16:38:16.216932Z",
     "iopub.status.busy": "2020-11-11T16:38:16.215898Z",
     "iopub.status.idle": "2020-11-11T16:46:37.010895Z",
     "shell.execute_reply": "2020-11-11T16:46:37.010121Z"
    },
    "papermill": {
     "duration": 500.815677,
     "end_time": "2020-11-11T16:46:37.011004",
     "exception": false,
     "start_time": "2020-11-11T16:38:16.195327",
     "status": "completed"
    },
    "tags": []
   },
   "outputs": [
    {
     "name": "stdout",
     "output_type": "stream",
     "text": [
      "Epoch 1/30\n",
      "80/80 [==============================] - 28s 349ms/step - loss: 0.5035 - binary_accuracy: 0.7504 - val_loss: 0.3904 - val_binary_accuracy: 0.8293\n",
      "Epoch 2/30\n",
      "80/80 [==============================] - 16s 200ms/step - loss: 0.3763 - binary_accuracy: 0.8333 - val_loss: 0.3488 - val_binary_accuracy: 0.8567\n",
      "Epoch 3/30\n",
      "80/80 [==============================] - 16s 201ms/step - loss: 0.3330 - binary_accuracy: 0.8605 - val_loss: 0.3278 - val_binary_accuracy: 0.8616\n",
      "Epoch 4/30\n",
      "80/80 [==============================] - 16s 201ms/step - loss: 0.3112 - binary_accuracy: 0.8693 - val_loss: 0.3147 - val_binary_accuracy: 0.8672\n",
      "Epoch 5/30\n",
      "80/80 [==============================] - 16s 200ms/step - loss: 0.3027 - binary_accuracy: 0.8736 - val_loss: 0.3267 - val_binary_accuracy: 0.8620\n",
      "Epoch 6/30\n",
      "80/80 [==============================] - 16s 199ms/step - loss: 0.2894 - binary_accuracy: 0.8773 - val_loss: 0.3146 - val_binary_accuracy: 0.8666\n",
      "Epoch 7/30\n",
      "80/80 [==============================] - 16s 201ms/step - loss: 0.2690 - binary_accuracy: 0.8851 - val_loss: 0.2988 - val_binary_accuracy: 0.8769\n",
      "Epoch 8/30\n",
      "80/80 [==============================] - 16s 199ms/step - loss: 0.2751 - binary_accuracy: 0.8841 - val_loss: 0.3310 - val_binary_accuracy: 0.8614\n",
      "Epoch 9/30\n",
      "80/80 [==============================] - 16s 200ms/step - loss: 0.2494 - binary_accuracy: 0.8996 - val_loss: 0.3369 - val_binary_accuracy: 0.8567\n",
      "Epoch 10/30\n",
      "80/80 [==============================] - 16s 199ms/step - loss: 0.2290 - binary_accuracy: 0.9060 - val_loss: 0.3035 - val_binary_accuracy: 0.8735\n",
      "Epoch 11/30\n",
      "80/80 [==============================] - 16s 202ms/step - loss: 0.2204 - binary_accuracy: 0.9119 - val_loss: 0.3087 - val_binary_accuracy: 0.8729\n",
      "Epoch 12/30\n",
      "80/80 [==============================] - 16s 199ms/step - loss: 0.2221 - binary_accuracy: 0.9115 - val_loss: 0.3017 - val_binary_accuracy: 0.8759\n",
      "Epoch 13/30\n",
      "80/80 [==============================] - 16s 200ms/step - loss: 0.2150 - binary_accuracy: 0.9126 - val_loss: 0.3075 - val_binary_accuracy: 0.8735\n",
      "Epoch 14/30\n",
      "80/80 [==============================] - 16s 199ms/step - loss: 0.2100 - binary_accuracy: 0.9185 - val_loss: 0.3180 - val_binary_accuracy: 0.8693\n",
      "Epoch 15/30\n",
      "80/80 [==============================] - 16s 201ms/step - loss: 0.2112 - binary_accuracy: 0.9144 - val_loss: 0.3080 - val_binary_accuracy: 0.8747\n",
      "Epoch 16/30\n",
      "80/80 [==============================] - 16s 199ms/step - loss: 0.1851 - binary_accuracy: 0.9259 - val_loss: 0.3020 - val_binary_accuracy: 0.8782\n",
      "Epoch 17/30\n",
      "80/80 [==============================] - 16s 200ms/step - loss: 0.1889 - binary_accuracy: 0.9224 - val_loss: 0.3015 - val_binary_accuracy: 0.8794\n",
      "Epoch 18/30\n",
      "80/80 [==============================] - 16s 200ms/step - loss: 0.2072 - binary_accuracy: 0.9179 - val_loss: 0.3053 - val_binary_accuracy: 0.8804\n",
      "Epoch 19/30\n",
      "80/80 [==============================] - 16s 201ms/step - loss: 0.1795 - binary_accuracy: 0.9324 - val_loss: 0.3037 - val_binary_accuracy: 0.8826\n",
      "Epoch 20/30\n",
      "80/80 [==============================] - 16s 199ms/step - loss: 0.1741 - binary_accuracy: 0.9339 - val_loss: 0.3300 - val_binary_accuracy: 0.8668\n",
      "Epoch 21/30\n",
      "80/80 [==============================] - 16s 199ms/step - loss: 0.1766 - binary_accuracy: 0.9295 - val_loss: 0.3093 - val_binary_accuracy: 0.8792\n",
      "Epoch 22/30\n",
      "80/80 [==============================] - 16s 201ms/step - loss: 0.1627 - binary_accuracy: 0.9365 - val_loss: 0.3146 - val_binary_accuracy: 0.8749\n",
      "Epoch 23/30\n",
      "80/80 [==============================] - 16s 199ms/step - loss: 0.1651 - binary_accuracy: 0.9338 - val_loss: 0.3136 - val_binary_accuracy: 0.8771\n",
      "Epoch 24/30\n",
      "80/80 [==============================] - 16s 199ms/step - loss: 0.1628 - binary_accuracy: 0.9339 - val_loss: 0.3311 - val_binary_accuracy: 0.8759\n",
      "Epoch 25/30\n",
      "80/80 [==============================] - 16s 199ms/step - loss: 0.1526 - binary_accuracy: 0.9447 - val_loss: 0.3166 - val_binary_accuracy: 0.8735\n",
      "Epoch 26/30\n",
      "80/80 [==============================] - 16s 201ms/step - loss: 0.1589 - binary_accuracy: 0.9339 - val_loss: 0.3201 - val_binary_accuracy: 0.8782\n",
      "Epoch 27/30\n",
      "80/80 [==============================] - 16s 200ms/step - loss: 0.1513 - binary_accuracy: 0.9392 - val_loss: 0.3735 - val_binary_accuracy: 0.8543\n",
      "Epoch 28/30\n",
      "80/80 [==============================] - 16s 199ms/step - loss: 0.1808 - binary_accuracy: 0.9285 - val_loss: 0.3444 - val_binary_accuracy: 0.8646\n",
      "Epoch 29/30\n",
      "80/80 [==============================] - 16s 200ms/step - loss: 0.1636 - binary_accuracy: 0.9361 - val_loss: 0.3258 - val_binary_accuracy: 0.8822\n",
      "Epoch 30/30\n",
      "80/80 [==============================] - 16s 200ms/step - loss: 0.1653 - binary_accuracy: 0.9343 - val_loss: 0.4513 - val_binary_accuracy: 0.8274\n"
     ]
    }
   ],
   "source": [
    "model.compile(\n",
    "    optimizer='adam',\n",
    "    loss='binary_crossentropy',\n",
    "    metrics=['binary_accuracy'],\n",
    ")\n",
    "\n",
    "history = model.fit(\n",
    "    ds_train,\n",
    "    validation_data=ds_valid,\n",
    "    epochs=30,\n",
    ")"
   ]
  },
  {
   "cell_type": "code",
   "execution_count": 4,
   "metadata": {
    "execution": {
     "iopub.execute_input": "2020-11-11T16:46:38.885445Z",
     "iopub.status.busy": "2020-11-11T16:46:38.884540Z",
     "iopub.status.idle": "2020-11-11T16:46:39.374705Z",
     "shell.execute_reply": "2020-11-11T16:46:39.374150Z"
    },
    "papermill": {
     "duration": 1.505607,
     "end_time": "2020-11-11T16:46:39.374828",
     "exception": false,
     "start_time": "2020-11-11T16:46:37.869221",
     "status": "completed"
    },
    "tags": []
   },
   "outputs": [
    {
     "data": {
      "image/png": "[encoded data removed]",
      "text/plain": [
       "<Figure size 432x288 with 1 Axes>"
      ]
     },
     "metadata": {
      "needs_background": "light"
     },
     "output_type": "display_data"
    },
    {
     "data": {
      "image/png": "[encoded data removed]",
      "text/plain": [
       "<Figure size 432x288 with 1 Axes>"
      ]
     },
     "metadata": {
      "needs_background": "light"
     },
     "output_type": "display_data"
    }
   ],
   "source": [
    "import pandas as pd\n",
    "\n",
    "history_frame = pd.DataFrame(history.history)\n",
    "\n",
    "history_frame.loc[:, ['loss', 'val_loss']].plot()\n",
    "history_frame.loc[:, ['binary_accuracy', 'val_binary_accuracy']].plot();"
   ]
  },
  {
   "cell_type": "markdown",
   "metadata": {
    "papermill": {
     "duration": 0.920146,
     "end_time": "2020-11-11T16:46:41.435673",
     "exception": false,
     "start_time": "2020-11-11T16:46:40.515527",
     "status": "completed"
    },
    "tags": []
   },
   "source": [
    "The training and validation curves in the model from Tutorial 1 diverged fairly quickly, suggesting that it could benefit from some regularization. The learning curves for this model were able to stay closer together, and we achieved some modest improvement in validation loss and accuracy. This suggests that the dataset did indeed benefit from the augmentation.\n",
    "\n",
    "# Your Turn #\n",
    "\n",
    "Move on to the [**Exercise**](https://www.kaggle.com/kernels/fork/11991328) to apply data augmentation to the custom convnet you built in Lesson 5. This will be your best model ever!"
   ]
  },
  {
   "cell_type": "markdown",
   "metadata": {
    "papermill": {
     "duration": 0.848594,
     "end_time": "2020-11-11T16:46:43.131909",
     "exception": false,
     "start_time": "2020-11-11T16:46:42.283315",
     "status": "completed"
    },
    "tags": []
   },
   "source": [
    "---\n",
    "\n",
    "\n",
    "\n",
    "\n",
    "*Have questions or comments? Visit the [Learn Discussion forum](https://www.kaggle.com/learn-forum/196537) to chat with other Learners.*"
   ]
  }
 ],
 "metadata": {
  "jupytext": {
   "formats": "md,ipynb"
  },
  "kernelspec": {
   "display_name": "Python 3",
   "language": "python",
   "name": "python3"
  },
  "language_info": {
   "codemirror_mode": {
    "name": "ipython",
    "version": 3
   },
   "file_extension": ".py",
   "mimetype": "text/x-python",
   "name": "python",
   "nbconvert_exporter": "python",
   "pygments_lexer": "ipython3",
   "version": "3.7.6"
  },
  "papermill": {
   "duration": 523.992532,
   "end_time": "2020-11-11T16:46:45.771509",
   "environment_variables": {},
   "exception": null,
   "input_path": "__notebook__.ipynb",
   "output_path": "__notebook__.ipynb",
   "parameters": {},
   "start_time": "2020-11-11T16:38:01.778977",
   "version": "2.1.0"
  }
 },
 "nbformat": 4,
 "nbformat_minor": 4
}
