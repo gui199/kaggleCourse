{
 "cells": [
  {
   "cell_type": "code",
   "execution_count": 1,
   "metadata": {
    "_kg_hide-input": true,
    "_kg_hide-output": true,
    "execution": {
     "iopub.execute_input": "2020-11-11T16:38:08.366063Z",
     "iopub.status.busy": "2020-11-11T16:38:08.360849Z",
     "iopub.status.idle": "2020-11-11T16:38:09.409960Z",
     "shell.execute_reply": "2020-11-11T16:38:09.409198Z"
    },
    "papermill": {
     "duration": 1.078048,
     "end_time": "2020-11-11T16:38:09.410102",
     "exception": false,
     "start_time": "2020-11-11T16:38:08.332054",
     "status": "completed"
    },
    "tags": []
   },
   "outputs": [],
   "source": [
    "\n",
    "import numpy as np\n",
    "from itertools import product\n",
    "from skimage import draw, transform\n",
    "\n",
    "def circle(size, val=None, r_shrink=0):\n",
    "    circle = np.zeros([size[0]+1, size[1]+1])\n",
    "    rr, cc = draw.circle_perimeter(\n",
    "        size[0]//2, size[1]//2,\n",
    "        radius=size[0]//2 - r_shrink,\n",
    "        shape=[size[0]+1, size[1]+1],\n",
    "    )\n",
    "    if val is None:\n",
    "        circle[rr, cc] = np.random.uniform(size=circle.shape)[rr, cc]\n",
    "    else:\n",
    "        circle[rr, cc] = val\n",
    "    circle = transform.resize(circle, size, order=0)\n",
    "    return circle\n",
    "\n",
    "def show_kernel(kernel, label=True, digits=None, text_size=28):\n",
    "    # Format kernel\n",
    "    kernel = np.array(kernel)\n",
    "    if digits is not None:\n",
    "        kernel = kernel.round(digits)\n",
    "\n",
    "    # Plot kernel\n",
    "    cmap = plt.get_cmap('Blues_r')\n",
    "    plt.imshow(kernel, cmap=cmap)\n",
    "    rows, cols = kernel.shape\n",
    "    thresh = (kernel.max()+kernel.min())/2\n",
    "    # Optionally, add value labels\n",
    "    if label:\n",
    "        for i, j in product(range(rows), range(cols)):\n",
    "            val = kernel[i, j]\n",
    "            color = cmap(0) if val > thresh else cmap(255)\n",
    "            plt.text(j, i, val, \n",
    "                     color=color, size=text_size,\n",
    "                     horizontalalignment='center', verticalalignment='center')\n",
    "    plt.xticks([])\n",
    "    plt.yticks([])\n",
    "\n",
    "def show_extraction(image,\n",
    "                    kernel,\n",
    "                    conv_stride=1,\n",
    "                    conv_padding='valid',\n",
    "                    activation='relu',\n",
    "                    pool_size=2,\n",
    "                    pool_stride=2,\n",
    "                    pool_padding='same',\n",
    "                    figsize=(10, 10),\n",
    "                    subplot_shape=(2, 2),\n",
    "                    ops=['Input', 'Filter', 'Detect', 'Condense'],\n",
    "                    gamma=1.0):\n",
    "    # Create Layers\n",
    "    model = tf.keras.Sequential([\n",
    "                    tf.keras.layers.Conv2D(\n",
    "                        filters=1,\n",
    "                        kernel_size=kernel.shape,\n",
    "                        strides=conv_stride,\n",
    "                        padding=conv_padding,\n",
    "                        use_bias=False,\n",
    "                        input_shape=image.shape,\n",
    "                    ),\n",
    "                    tf.keras.layers.Activation(activation),\n",
    "                    tf.keras.layers.MaxPool2D(\n",
    "                        pool_size=pool_size,\n",
    "                        strides=pool_stride,\n",
    "                        padding=pool_padding,\n",
    "                    ),\n",
    "                   ])\n",
    "\n",
    "    layer_filter, layer_detect, layer_condense = model.layers\n",
    "    kernel = tf.reshape(kernel, [*kernel.shape, 1, 1])\n",
    "    layer_filter.set_weights([kernel])\n",
    "\n",
    "    # Format for TF\n",
    "    image = tf.expand_dims(image, axis=0)\n",
    "    image = tf.image.convert_image_dtype(image, dtype=tf.float32) \n",
    "    \n",
    "    # Extract Feature\n",
    "    image_filter = layer_filter(image)\n",
    "    image_detect = layer_detect(image_filter)\n",
    "    image_condense = layer_condense(image_detect)\n",
    "    \n",
    "    images = {}\n",
    "    if 'Input' in ops:\n",
    "        images.update({'Input': (image, 1.0)})\n",
    "    if 'Filter' in ops:\n",
    "        images.update({'Filter': (image_filter, 1.0)})\n",
    "    if 'Detect' in ops:\n",
    "        images.update({'Detect': (image_detect, gamma)})\n",
    "    if 'Condense' in ops:\n",
    "        images.update({'Condense': (image_condense, gamma)})\n",
    "    \n",
    "    # Plot\n",
    "    plt.figure(figsize=figsize)\n",
    "    for i, title in enumerate(ops):\n",
    "        image, gamma = images[title]\n",
    "        plt.subplot(*subplot_shape, i+1)\n",
    "        plt.imshow(tf.image.adjust_gamma(tf.squeeze(image), gamma))\n",
    "        plt.axis('off')\n",
    "        plt.title(title)"
   ]
  },
  {
   "cell_type": "markdown",
   "metadata": {
    "papermill": {
     "duration": 0.008026,
     "end_time": "2020-11-11T16:38:09.427172",
     "exception": false,
     "start_time": "2020-11-11T16:38:09.419146",
     "status": "completed"
    },
    "tags": []
   },
   "source": [
    "# Introduction #\n",
    "\n",
    "In the previous two lessons, we learned about the three operations that carry out feature extraction from an image:\n",
    "1. *filter* with a **convolution** layer\n",
    "2. *detect* with **ReLU** activation\n",
    "3. *condense* with a **maximum pooling** layer\n",
    "\n",
    "The convolution and pooling operations share a common feature: they are both performed over a **sliding window**. With convolution, this \"window\" is given by the dimensions of the kernel, the parameter `kernel_size`. With pooling, it is the pooling window, given by `pool_size`.\n",
    "\n",
    "<figure>\n",
    "<img src=\"https://i.imgur.com/LueNK6b.gif\" width=400 alt=\"A 2D sliding window.\">\n",
    "</figure>\n",
    "\n",
    "There are two additional parameters affecting both convolution and pooling layers -- these are the `strides` of the window and whether to use `padding` at the image edges. The `strides` parameter says how far the window should move at each step, and the `padding` parameter describes how we handle the pixels at the edges of the input.\n",
    "\n",
    "With these two parameters, defining the two layers becomes:"
   ]
  },
  {
   "cell_type": "code",
   "execution_count": 2,
   "metadata": {
    "execution": {
     "iopub.execute_input": "2020-11-11T16:38:09.450863Z",
     "iopub.status.busy": "2020-11-11T16:38:09.450183Z",
     "iopub.status.idle": "2020-11-11T16:38:15.149353Z",
     "shell.execute_reply": "2020-11-11T16:38:15.148625Z"
    },
    "papermill": {
     "duration": 5.714012,
     "end_time": "2020-11-11T16:38:15.149480",
     "exception": false,
     "start_time": "2020-11-11T16:38:09.435468",
     "status": "completed"
    },
    "tags": []
   },
   "outputs": [],
   "source": [
    "import tensorflow.keras as keras\n",
    "import tensorflow.keras.layers as layers\n",
    "\n",
    "model = keras.Sequential([\n",
    "    layers.Conv2D(filters=64,\n",
    "                  kernel_size=3,\n",
    "                  strides=1,\n",
    "                  padding='same',\n",
    "                  activation='relu'),\n",
    "    layers.MaxPool2D(pool_size=2,\n",
    "                     strides=1,\n",
    "                     padding='same')\n",
    "    # More layers follow\n",
    "])"
   ]
  },
  {
   "cell_type": "markdown",
   "metadata": {
    "papermill": {
     "duration": 0.008415,
     "end_time": "2020-11-11T16:38:15.166898",
     "exception": false,
     "start_time": "2020-11-11T16:38:15.158483",
     "status": "completed"
    },
    "tags": []
   },
   "source": [
    "# Stride #\n",
    "\n",
    "The distance the window moves at each step is called the **stride**. We need to specify the stride in both dimensions of the image: one for moving left to right and one for moving top to bottom. This animation shows `strides=(2, 2)`, a movement of 2 pixels each step.\n",
    "\n",
    "<figure>\n",
    "<img src=\"https://i.imgur.com/Tlptsvt.gif\" width=400 alt=\"Sliding window with a stride of (2, 2).\">\n",
    "</figure>\n",
    "\n",
    "What effect does the stride have? Whenever the stride in either direction is greater than 1, the sliding window will skip over some of the pixels in the input at each step.\n",
    "\n",
    "Because we want high-quality features to use for classification, convolutional layers will most often have `strides=(1, 1)`. Increasing the stride means that we miss out on potentially valuble information in our summary. Maximum pooling layers, however, will almost always have stride values greater than 1, like `(2, 2)` or `(3, 3)`, but not larger than the window itself.\n",
    "\n",
    "Finally, note that when the value of the `strides` is the same number in both directions, you only need to set that number; for instance, instead of `strides=(2, 2)`, you could use `strides=2` for the parameter setting.\n",
    "\n",
    "# Padding #\n",
    "\n",
    "When performing the sliding window computation, there is a question as to what to do at the boundaries of the input. Staying entirely inside the input image means the window will never sit squarely over these boundary pixels like it does for every other pixel in the input. Since we aren't treating all the pixels exactly the same, could there be a problem?\n",
    "\n",
    "What the convolution does with these boundary values is determined by its `padding` parameter. In TensorFlow, you have two choices: either `padding='same'` or `padding='valid'`. There are trade-offs with each.\n",
    "\n",
    "When we set `padding='valid'`, the convolution window will stay entirely inside the input. The drawback is that the output shrinks (loses pixels), and shrinks more for larger kernels. This will limit the number of layers the network can contain, especially when inputs are small in size.\n",
    "\n",
    "The alternative is to use `padding='same'`. The trick here is to **pad** the input with 0's around its borders, using just enough 0's to make the size of the output the *same* as the size of the input. This can have the effect however of diluting the influence of pixels at the borders. The animation below shows a sliding window with `'same'` padding.\n",
    "\n",
    "<figure>\n",
    "<img src=\"https://i.imgur.com/RvGM2xb.gif\" width=400 alt=\"Illustration of zero (same) padding.\">\n",
    "</figure>\n",
    "\n",
    "The VGG model we've been looking at uses `same` padding for all of its convolutional layers. Most modern convnets will use some combination of the two. (Another parameter to tune!)\n",
    "\n",
    "# Example - Exploring Sliding Windows #\n",
    "\n",
    "To better understand the effect of the sliding window parameters, it can help to observe a feature extraction on a low-resolution image so that we can see the individual pixels. Let's just look at a simple circle.\n",
    "\n",
    "This next hidden cell will create an image and kernel for us."
   ]
  },
  {
   "cell_type": "code",
   "execution_count": 3,
   "metadata": {
    "_kg_hide-input": true,
    "execution": {
     "iopub.execute_input": "2020-11-11T16:38:15.196759Z",
     "iopub.status.busy": "2020-11-11T16:38:15.196026Z",
     "iopub.status.idle": "2020-11-11T16:38:15.341686Z",
     "shell.execute_reply": "2020-11-11T16:38:15.342294Z"
    },
    "papermill": {
     "duration": 0.166786,
     "end_time": "2020-11-11T16:38:15.342442",
     "exception": false,
     "start_time": "2020-11-11T16:38:15.175656",
     "status": "completed"
    },
    "tags": []
   },
   "outputs": [
    {
     "data": {
      "image/png": "[encoded data removed]",
      "text/plain": [
       "<Figure size 432x288 with 1 Axes>"
      ]
     },
     "metadata": {},
     "output_type": "display_data"
    }
   ],
   "source": [
    "\n",
    "import tensorflow as tf\n",
    "import matplotlib.pyplot as plt\n",
    "\n",
    "plt.rc('figure', autolayout=True)\n",
    "plt.rc('axes', labelweight='bold', labelsize='large',\n",
    "       titleweight='bold', titlesize=18, titlepad=10)\n",
    "plt.rc('image', cmap='magma')\n",
    "\n",
    "image = circle([64, 64], val=1.0, r_shrink=3)\n",
    "image = tf.reshape(image, [*image.shape, 1])\n",
    "# Bottom sobel\n",
    "kernel = tf.constant(\n",
    "    [[-1, -2, -1],\n",
    "     [0, 0, 0],\n",
    "     [1, 2, 1]],\n",
    ")\n",
    "\n",
    "show_kernel(kernel)"
   ]
  },
  {
   "cell_type": "markdown",
   "metadata": {
    "papermill": {
     "duration": 0.010214,
     "end_time": "2020-11-11T16:38:15.363854",
     "exception": false,
     "start_time": "2020-11-11T16:38:15.353640",
     "status": "completed"
    },
    "tags": []
   },
   "source": [
    "The VGG architecture is fairly simple. It uses convolution with strides of 1 and maximum pooling with $2 \\times 2$ windows and strides of 2. We've included a function in the `visiontools` utility script that will show us all the steps."
   ]
  },
  {
   "cell_type": "code",
   "execution_count": 4,
   "metadata": {
    "execution": {
     "iopub.execute_input": "2020-11-11T16:38:15.397233Z",
     "iopub.status.busy": "2020-11-11T16:38:15.396479Z",
     "iopub.status.idle": "2020-11-11T16:38:15.811810Z",
     "shell.execute_reply": "2020-11-11T16:38:15.811018Z"
    },
    "lines_to_next_cell": 0,
    "papermill": {
     "duration": 0.437443,
     "end_time": "2020-11-11T16:38:15.811949",
     "exception": false,
     "start_time": "2020-11-11T16:38:15.374506",
     "status": "completed"
    },
    "tags": []
   },
   "outputs": [
    {
     "data": {
      "image/png": "[encoded data removed]",
      "text/plain": [
       "<Figure size 1008x432 with 4 Axes>"
      ]
     },
     "metadata": {
      "needs_background": "light"
     },
     "output_type": "display_data"
    }
   ],
   "source": [
    "show_extraction(\n",
    "    image, kernel,\n",
    "\n",
    "    # Window parameters\n",
    "    conv_stride=1,\n",
    "    pool_size=2,\n",
    "    pool_stride=2,\n",
    "\n",
    "    subplot_shape=(1, 4),\n",
    "    figsize=(14, 6),\n",
    ")"
   ]
  },
  {
   "cell_type": "markdown",
   "metadata": {
    "papermill": {
     "duration": 0.011442,
     "end_time": "2020-11-11T16:38:15.835181",
     "exception": false,
     "start_time": "2020-11-11T16:38:15.823739",
     "status": "completed"
    },
    "tags": []
   },
   "source": [
    "And that works pretty well! The kernel was designed to detect horizontal lines, and we can see that in the resulting feature map the more horizontal parts of the input end up with the greatest activation.\n",
    "\n",
    "What would happen if we changed the strides of the convolution to 3?"
   ]
  },
  {
   "cell_type": "code",
   "execution_count": 5,
   "metadata": {
    "execution": {
     "iopub.execute_input": "2020-11-11T16:38:15.870426Z",
     "iopub.status.busy": "2020-11-11T16:38:15.869753Z",
     "iopub.status.idle": "2020-11-11T16:38:16.126675Z",
     "shell.execute_reply": "2020-11-11T16:38:16.127571Z"
    },
    "papermill": {
     "duration": 0.280759,
     "end_time": "2020-11-11T16:38:16.127794",
     "exception": false,
     "start_time": "2020-11-11T16:38:15.847035",
     "status": "completed"
    },
    "tags": []
   },
   "outputs": [
    {
     "data": {
      "image/png": "[encoded data removed]",
      "text/plain": [
       "<Figure size 1008x432 with 4 Axes>"
      ]
     },
     "metadata": {
      "needs_background": "light"
     },
     "output_type": "display_data"
    }
   ],
   "source": [
    "show_extraction(\n",
    "    image, kernel,\n",
    "\n",
    "    # Window parameters\n",
    "    conv_stride=3,\n",
    "    pool_size=2,\n",
    "    pool_stride=2,\n",
    "\n",
    "    subplot_shape=(1, 4),\n",
    "    figsize=(14, 6),    \n",
    ")"
   ]
  },
  {
   "cell_type": "markdown",
   "metadata": {
    "papermill": {
     "duration": 0.012571,
     "end_time": "2020-11-11T16:38:16.153675",
     "exception": false,
     "start_time": "2020-11-11T16:38:16.141104",
     "status": "completed"
    },
    "tags": []
   },
   "source": [
    "This seems to reduce the quality of the feature extracted. Our input circle is rather \"finely detailed,\" being only 1 pixel wide. A convolution with strides of 3 is too coarse to produce a good feature map from it.\n",
    "\n",
    "Sometimes, a model will use a convolution with a larger stride in it's initial layer. This will usually be coupled with a larger kernel as well. The ResNet50 model, for instance, uses $7 \\times 7$ kernels with strides of 2 in its first layer. This seems to accelerate the production of large-scale features without the sacrifice of too much information from the input.\n",
    "\n",
    "# Conclusion #\n",
    "\n",
    "In this lesson, we looked at a characteristic computation common to both convolution and pooling: the **sliding window** and the parameters affecting its behavior in these layers. This style of windowed computation contributes much of what is characteristic of convolutional networks and is an essential part of their functioning.\n",
    "\n",
    "# Your Turn #\n",
    "\n",
    "Move on to the [**Exercise**](https://www.kaggle.com/kernels/fork/12400209) where you'll explore sliding windows, learn about how *stacking* convolutional layers can increase the effective window size, and also learn about how convolution can be used with *one-dimensional* data, like time series."
   ]
  },
  {
   "cell_type": "markdown",
   "metadata": {
    "papermill": {
     "duration": 0.012242,
     "end_time": "2020-11-11T16:38:16.179111",
     "exception": false,
     "start_time": "2020-11-11T16:38:16.166869",
     "status": "completed"
    },
    "tags": []
   },
   "source": [
    "---\n",
    "\n",
    "\n",
    "\n",
    "\n",
    "*Have questions or comments? Visit the [Learn Discussion forum](https://www.kaggle.com/learn-forum/196537) to chat with other Learners.*"
   ]
  }
 ],
 "metadata": {
  "jupytext": {
   "formats": "md,ipynb"
  },
  "kernelspec": {
   "display_name": "Python 3",
   "language": "python",
   "name": "python3"
  },
  "language_info": {
   "codemirror_mode": {
    "name": "ipython",
    "version": 3
   },
   "file_extension": ".py",
   "mimetype": "text/x-python",
   "name": "python",
   "nbconvert_exporter": "python",
   "pygments_lexer": "ipython3",
   "version": "3.7.6"
  },
  "papermill": {
   "duration": 12.750058,
   "end_time": "2020-11-11T16:38:16.298091",
   "environment_variables": {},
   "exception": null,
   "input_path": "__notebook__.ipynb",
   "output_path": "__notebook__.ipynb",
   "parameters": {},
   "start_time": "2020-11-11T16:38:03.548033",
   "version": "2.1.0"
  }
 },
 "nbformat": 4,
 "nbformat_minor": 4
}
