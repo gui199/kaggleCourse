{
 "cells": [
  {
   "cell_type": "markdown",
   "metadata": {
    "papermill": {
     "duration": 0.007566,
     "end_time": "2020-11-11T16:37:51.850000",
     "exception": false,
     "start_time": "2020-11-11T16:37:51.842434",
     "status": "completed"
    },
    "tags": []
   },
   "source": [
    "<!--TITLE:Custom Convnets-->\n",
    "# Introduction #\n",
    "\n",
    "Now that you've seen the layers a convnet uses to extract features, it's time to put them together and build a network of your own!\n",
    "\n",
    "# Simple to Refined #\n",
    "\n",
    "In the last three lessons, we saw how convolutional networks perform **feature extraction** through three operations: **filter**, **detect**, and **condense**. A single round of feature extraction can only extract relatively simple features from an image, things like simple lines or contrasts. These are too simple to solve most classification problems. Instead, convnets will repeat this extraction over and over, so that the features become more complex and refined as they travel deeper into the network.\n",
    "\n",
    "<figure>\n",
    "<img src=\"https://i.imgur.com/VqmC1rm.png\" alt=\"Features extracted from an image of a car, from simple to refined.\" width=800>\n",
    "</figure>\n",
    "\n",
    "# Convolutional Blocks #\n",
    "\n",
    "It does this by passing them through long chains of **convolutional blocks** which perform this extraction.\n",
    "\n",
    "<figure>\n",
    "<img src=\"https://i.imgur.com/pr8VwCZ.png\" width=\"400\" alt=\"Extraction as a sequence of blocks.\">\n",
    "</figure>\n",
    "\n",
    "These convolutional blocks are stacks of `Conv2D` and `MaxPool2D` layers, whose role in feature extraction we learned about in the last few lessons.\n",
    "\n",
    "<figure>\n",
    "<!-- <img src=\"./images/2-block-crp.png\" width=\"400\" alt=\"A kind of extraction block: convolution, ReLU, pooling.\"> -->\n",
    "<img src=\"https://i.imgur.com/8D6IhEw.png\" width=\"400\" alt=\"A kind of extraction block: convolution, ReLU, pooling.\">\n",
    "</figure>\n",
    "\n",
    "Each block represents a round of extraction, and by composing these blocks the convnet can combine and recombine the features produced, growing them and shaping them to better fit the problem at hand. The deep structure of modern convnets is what allows this sophisticated feature engineering and has been largely responsible for their superior performance.\n",
    "\n",
    "# Example - Design a Convnet #\n",
    "\n",
    "Let's see how to define a deep convolutional network capable of engineering complex features. In this example, we'll create a Keras `Sequence` model and then train it on our Cars dataset.\n",
    "\n",
    "## Step 1 - Load Data ##\n",
    "\n",
    "This hidden cell loads the data."
   ]
  },
  {
   "cell_type": "code",
   "execution_count": 1,
   "metadata": {
    "_kg_hide-input": true,
    "execution": {
     "iopub.execute_input": "2020-11-11T16:37:51.882791Z",
     "iopub.status.busy": "2020-11-11T16:37:51.882007Z",
     "iopub.status.idle": "2020-11-11T16:38:01.964095Z",
     "shell.execute_reply": "2020-11-11T16:38:01.964626Z"
    },
    "papermill": {
     "duration": 10.106232,
     "end_time": "2020-11-11T16:38:01.964803",
     "exception": false,
     "start_time": "2020-11-11T16:37:51.858571",
     "status": "completed"
    },
    "tags": []
   },
   "outputs": [
    {
     "name": "stdout",
     "output_type": "stream",
     "text": [
      "Found 5117 files belonging to 2 classes.\n",
      "Found 5051 files belonging to 2 classes.\n"
     ]
    }
   ],
   "source": [
    "\n",
    "# Imports\n",
    "import os, warnings\n",
    "import matplotlib.pyplot as plt\n",
    "from matplotlib import gridspec\n",
    "\n",
    "import numpy as np\n",
    "import tensorflow as tf\n",
    "from tensorflow.keras.preprocessing import image_dataset_from_directory\n",
    "\n",
    "# Reproducability\n",
    "def set_seed(seed=31415):\n",
    "    np.random.seed(seed)\n",
    "    tf.random.set_seed(seed)\n",
    "    os.environ['PYTHONHASHSEED'] = str(seed)\n",
    "    os.environ['TF_DETERMINISTIC_OPS'] = '1'\n",
    "set_seed()\n",
    "\n",
    "# Set Matplotlib defaults\n",
    "plt.rc('figure', autolayout=True)\n",
    "plt.rc('axes', labelweight='bold', labelsize='large',\n",
    "       titleweight='bold', titlesize=18, titlepad=10)\n",
    "plt.rc('image', cmap='magma')\n",
    "warnings.filterwarnings(\"ignore\") # to clean up output cells\n",
    "\n",
    "\n",
    "# Load training and validation sets\n",
    "ds_train_ = image_dataset_from_directory(\n",
    "    '../input/car-or-truck/train',\n",
    "    labels='inferred',\n",
    "    label_mode='binary',\n",
    "    image_size=[128, 128],\n",
    "    interpolation='nearest',\n",
    "    batch_size=64,\n",
    "    shuffle=True,\n",
    ")\n",
    "ds_valid_ = image_dataset_from_directory(\n",
    "    '../input/car-or-truck/valid',\n",
    "    labels='inferred',\n",
    "    label_mode='binary',\n",
    "    image_size=[128, 128],\n",
    "    interpolation='nearest',\n",
    "    batch_size=64,\n",
    "    shuffle=False,\n",
    ")\n",
    "\n",
    "# Data Pipeline\n",
    "def convert_to_float(image, label):\n",
    "    image = tf.image.convert_image_dtype(image, dtype=tf.float32)\n",
    "    return image, label\n",
    "\n",
    "AUTOTUNE = tf.data.experimental.AUTOTUNE\n",
    "ds_train = (\n",
    "    ds_train_\n",
    "    .map(convert_to_float)\n",
    "    .cache()\n",
    "    .prefetch(buffer_size=AUTOTUNE)\n",
    ")\n",
    "ds_valid = (\n",
    "    ds_valid_\n",
    "    .map(convert_to_float)\n",
    "    .cache()\n",
    "    .prefetch(buffer_size=AUTOTUNE)\n",
    ")\n"
   ]
  },
  {
   "cell_type": "markdown",
   "metadata": {
    "papermill": {
     "duration": 0.007126,
     "end_time": "2020-11-11T16:38:01.980665",
     "exception": false,
     "start_time": "2020-11-11T16:38:01.973539",
     "status": "completed"
    },
    "tags": []
   },
   "source": [
    "## Step 2 - Define Model ##\n",
    "\n",
    "Here is a diagram of the model we'll use:\n",
    "\n",
    "<figure>\n",
    "<!-- <img src=\"./images/2-convmodel-1.png\" width=\"200\" alt=\"Diagram of a convolutional model.\"> -->\n",
    "<img src=\"https://i.imgur.com/U1VdoDJ.png\" width=\"250\" alt=\"Diagram of a convolutional model.\">\n",
    "</figure>\n",
    "\n",
    "Now we'll define the model. See how our model consists of three blocks of `Conv2D` and `MaxPool2D` layers (the base) followed by a head of `Dense` layers. We can translate this diagram more or less directly into a Keras `Sequential` model just by filling in the appropriate parameters."
   ]
  },
  {
   "cell_type": "code",
   "execution_count": 2,
   "metadata": {
    "execution": {
     "iopub.execute_input": "2020-11-11T16:38:02.006556Z",
     "iopub.status.busy": "2020-11-11T16:38:02.005887Z",
     "iopub.status.idle": "2020-11-11T16:38:02.103017Z",
     "shell.execute_reply": "2020-11-11T16:38:02.103505Z"
    },
    "papermill": {
     "duration": 0.115659,
     "end_time": "2020-11-11T16:38:02.103714",
     "exception": false,
     "start_time": "2020-11-11T16:38:01.988055",
     "status": "completed"
    },
    "tags": []
   },
   "outputs": [
    {
     "name": "stdout",
     "output_type": "stream",
     "text": [
      "Model: \"sequential\"\n",
      "_________________________________________________________________\n",
      "Layer (type)                 Output Shape              Param #   \n",
      "=================================================================\n",
      "conv2d (Conv2D)              (None, 128, 128, 32)      2432      \n",
      "_________________________________________________________________\n",
      "max_pooling2d (MaxPooling2D) (None, 64, 64, 32)        0         \n",
      "_________________________________________________________________\n",
      "conv2d_1 (Conv2D)            (None, 64, 64, 64)        18496     \n",
      "_________________________________________________________________\n",
      "max_pooling2d_1 (MaxPooling2 (None, 32, 32, 64)        0         \n",
      "_________________________________________________________________\n",
      "conv2d_2 (Conv2D)            (None, 32, 32, 128)       73856     \n",
      "_________________________________________________________________\n",
      "max_pooling2d_2 (MaxPooling2 (None, 16, 16, 128)       0         \n",
      "_________________________________________________________________\n",
      "flatten (Flatten)            (None, 32768)             0         \n",
      "_________________________________________________________________\n",
      "dense (Dense)                (None, 6)                 196614    \n",
      "_________________________________________________________________\n",
      "dense_1 (Dense)              (None, 1)                 7         \n",
      "=================================================================\n",
      "Total params: 291,405\n",
      "Trainable params: 291,405\n",
      "Non-trainable params: 0\n",
      "_________________________________________________________________\n"
     ]
    }
   ],
   "source": [
    "import tensorflow.keras as keras\n",
    "import tensorflow.keras.layers as layers\n",
    "\n",
    "model = keras.Sequential([\n",
    "\n",
    "    # First Convolutional Block\n",
    "    layers.Conv2D(filters=32, kernel_size=5, activation=\"relu\", padding='same',\n",
    "                  # give the input dimensions in the first layer\n",
    "                  # [height, width, color channels(RGB)]\n",
    "                  input_shape=[128, 128, 3]),\n",
    "    layers.MaxPool2D(),\n",
    "\n",
    "    # Second Convolutional Block\n",
    "    layers.Conv2D(filters=64, kernel_size=3, activation=\"relu\", padding='same'),\n",
    "    layers.MaxPool2D(),\n",
    "\n",
    "    # Third Convolutional Block\n",
    "    layers.Conv2D(filters=128, kernel_size=3, activation=\"relu\", padding='same'),\n",
    "    layers.MaxPool2D(),\n",
    "\n",
    "    # Classifier Head\n",
    "    layers.Flatten(),\n",
    "    layers.Dense(units=6, activation=\"relu\"),\n",
    "    layers.Dense(units=1, activation=\"sigmoid\"),\n",
    "])\n",
    "model.summary()"
   ]
  },
  {
   "cell_type": "markdown",
   "metadata": {
    "papermill": {
     "duration": 0.008533,
     "end_time": "2020-11-11T16:38:02.121954",
     "exception": false,
     "start_time": "2020-11-11T16:38:02.113421",
     "status": "completed"
    },
    "tags": []
   },
   "source": [
    "Notice in this definition is how the number of filters doubled block-by-block: 64, 128, 256. This is a common pattern. Since the `MaxPool2D` layer is reducing the *size* of the feature maps, we can afford to increase the *quantity* we create.\n",
    "\n",
    "## Step 3 - Train ##\n",
    "\n",
    "We can train this model just like the model from Lesson 1: compile it with an optimizer along with a loss and metric appropriate for binary classification."
   ]
  },
  {
   "cell_type": "code",
   "execution_count": 3,
   "metadata": {
    "execution": {
     "iopub.execute_input": "2020-11-11T16:38:02.151406Z",
     "iopub.status.busy": "2020-11-11T16:38:02.150511Z",
     "iopub.status.idle": "2020-11-11T16:40:32.932937Z",
     "shell.execute_reply": "2020-11-11T16:40:32.932258Z"
    },
    "papermill": {
     "duration": 150.803015,
     "end_time": "2020-11-11T16:40:32.933069",
     "exception": false,
     "start_time": "2020-11-11T16:38:02.130054",
     "status": "completed"
    },
    "tags": []
   },
   "outputs": [
    {
     "name": "stdout",
     "output_type": "stream",
     "text": [
      "Epoch 1/40\n",
      "80/80 [==============================] - 19s 239ms/step - loss: 0.6830 - binary_accuracy: 0.5697 - val_loss: 0.6714 - val_binary_accuracy: 0.5771\n",
      "Epoch 2/40\n",
      "80/80 [==============================] - 3s 43ms/step - loss: 0.6664 - binary_accuracy: 0.5953 - val_loss: 0.6577 - val_binary_accuracy: 0.6147\n",
      "Epoch 3/40\n",
      "80/80 [==============================] - 3s 40ms/step - loss: 0.6569 - binary_accuracy: 0.6111 - val_loss: 0.6503 - val_binary_accuracy: 0.6244\n",
      "Epoch 4/40\n",
      "80/80 [==============================] - 3s 40ms/step - loss: 0.6489 - binary_accuracy: 0.6211 - val_loss: 0.6430 - val_binary_accuracy: 0.6310\n",
      "Epoch 5/40\n",
      "80/80 [==============================] - 3s 40ms/step - loss: 0.6397 - binary_accuracy: 0.6349 - val_loss: 0.6325 - val_binary_accuracy: 0.6393\n",
      "Epoch 6/40\n",
      "80/80 [==============================] - 3s 40ms/step - loss: 0.6259 - binary_accuracy: 0.6525 - val_loss: 0.6223 - val_binary_accuracy: 0.6450\n",
      "Epoch 7/40\n",
      "80/80 [==============================] - 3s 40ms/step - loss: 0.6127 - binary_accuracy: 0.6637 - val_loss: 0.6182 - val_binary_accuracy: 0.6529\n",
      "Epoch 8/40\n",
      "80/80 [==============================] - 3s 39ms/step - loss: 0.6003 - binary_accuracy: 0.6785 - val_loss: 0.6175 - val_binary_accuracy: 0.6597\n",
      "Epoch 9/40\n",
      "80/80 [==============================] - 3s 40ms/step - loss: 0.5881 - binary_accuracy: 0.6930 - val_loss: 0.6096 - val_binary_accuracy: 0.6684\n",
      "Epoch 10/40\n",
      "80/80 [==============================] - 3s 40ms/step - loss: 0.5737 - binary_accuracy: 0.7094 - val_loss: 0.5947 - val_binary_accuracy: 0.6820\n",
      "Epoch 11/40\n",
      "80/80 [==============================] - 3s 40ms/step - loss: 0.5558 - binary_accuracy: 0.7235 - val_loss: 0.5693 - val_binary_accuracy: 0.7032\n",
      "Epoch 12/40\n",
      "80/80 [==============================] - 3s 41ms/step - loss: 0.5249 - binary_accuracy: 0.7500 - val_loss: 0.5469 - val_binary_accuracy: 0.7236\n",
      "Epoch 13/40\n",
      "80/80 [==============================] - 3s 42ms/step - loss: 0.4965 - binary_accuracy: 0.7682 - val_loss: 0.5253 - val_binary_accuracy: 0.7408\n",
      "Epoch 14/40\n",
      "80/80 [==============================] - 3s 40ms/step - loss: 0.4706 - binary_accuracy: 0.7884 - val_loss: 0.5352 - val_binary_accuracy: 0.7335\n",
      "Epoch 15/40\n",
      "80/80 [==============================] - 3s 40ms/step - loss: 0.4411 - binary_accuracy: 0.8087 - val_loss: 0.4908 - val_binary_accuracy: 0.7697\n",
      "Epoch 16/40\n",
      "80/80 [==============================] - 3s 41ms/step - loss: 0.4102 - binary_accuracy: 0.8251 - val_loss: 0.4759 - val_binary_accuracy: 0.7787\n",
      "Epoch 17/40\n",
      "80/80 [==============================] - 3s 39ms/step - loss: 0.3804 - binary_accuracy: 0.8409 - val_loss: 0.4845 - val_binary_accuracy: 0.7709\n",
      "Epoch 18/40\n",
      "80/80 [==============================] - 3s 39ms/step - loss: 0.3541 - binary_accuracy: 0.8542 - val_loss: 0.4825 - val_binary_accuracy: 0.7739\n",
      "Epoch 19/40\n",
      "80/80 [==============================] - 3s 40ms/step - loss: 0.3232 - binary_accuracy: 0.8675 - val_loss: 0.4809 - val_binary_accuracy: 0.7832\n",
      "Epoch 20/40\n",
      "80/80 [==============================] - 3s 39ms/step - loss: 0.2900 - binary_accuracy: 0.8870 - val_loss: 0.4921 - val_binary_accuracy: 0.7830\n",
      "Epoch 21/40\n",
      "80/80 [==============================] - 3s 39ms/step - loss: 0.2541 - binary_accuracy: 0.9031 - val_loss: 0.5198 - val_binary_accuracy: 0.7890\n",
      "Epoch 22/40\n",
      "80/80 [==============================] - 3s 41ms/step - loss: 0.2326 - binary_accuracy: 0.9083 - val_loss: 0.5779 - val_binary_accuracy: 0.7761\n",
      "Epoch 23/40\n",
      "80/80 [==============================] - 3s 40ms/step - loss: 0.2201 - binary_accuracy: 0.9076 - val_loss: 0.5043 - val_binary_accuracy: 0.7977\n",
      "Epoch 24/40\n",
      "80/80 [==============================] - 3s 39ms/step - loss: 0.2301 - binary_accuracy: 0.9031 - val_loss: 0.8840 - val_binary_accuracy: 0.7038\n",
      "Epoch 25/40\n",
      "80/80 [==============================] - 3s 40ms/step - loss: 0.2345 - binary_accuracy: 0.9021 - val_loss: 0.8004 - val_binary_accuracy: 0.7252\n",
      "Epoch 26/40\n",
      "80/80 [==============================] - 3s 41ms/step - loss: 0.2089 - binary_accuracy: 0.9181 - val_loss: 0.5311 - val_binary_accuracy: 0.7990\n",
      "Epoch 27/40\n",
      "80/80 [==============================] - 3s 40ms/step - loss: 0.1746 - binary_accuracy: 0.9347 - val_loss: 0.5547 - val_binary_accuracy: 0.8006\n",
      "Epoch 28/40\n",
      "80/80 [==============================] - 3s 40ms/step - loss: 0.1404 - binary_accuracy: 0.9506 - val_loss: 0.5558 - val_binary_accuracy: 0.8028\n",
      "Epoch 29/40\n",
      "80/80 [==============================] - 3s 40ms/step - loss: 0.1227 - binary_accuracy: 0.9568 - val_loss: 0.5763 - val_binary_accuracy: 0.8040\n",
      "Epoch 30/40\n",
      "80/80 [==============================] - 3s 40ms/step - loss: 0.1364 - binary_accuracy: 0.9443 - val_loss: 0.5660 - val_binary_accuracy: 0.8086\n",
      "Epoch 31/40\n",
      "80/80 [==============================] - 3s 39ms/step - loss: 0.1359 - binary_accuracy: 0.9486 - val_loss: 0.8670 - val_binary_accuracy: 0.7500\n",
      "Epoch 32/40\n",
      "80/80 [==============================] - 4s 46ms/step - loss: 0.1485 - binary_accuracy: 0.9392 - val_loss: 0.7896 - val_binary_accuracy: 0.7773\n",
      "Epoch 33/40\n",
      "80/80 [==============================] - 3s 41ms/step - loss: 0.0916 - binary_accuracy: 0.9666 - val_loss: 0.8640 - val_binary_accuracy: 0.7729\n",
      "Epoch 34/40\n",
      "80/80 [==============================] - 3s 40ms/step - loss: 0.0691 - binary_accuracy: 0.9799 - val_loss: 0.9600 - val_binary_accuracy: 0.7670\n",
      "Epoch 35/40\n",
      "80/80 [==============================] - 3s 40ms/step - loss: 0.0605 - binary_accuracy: 0.9816 - val_loss: 0.8487 - val_binary_accuracy: 0.7866\n",
      "Epoch 36/40\n",
      "80/80 [==============================] - 3s 41ms/step - loss: 0.0594 - binary_accuracy: 0.9801 - val_loss: 0.7622 - val_binary_accuracy: 0.8038\n",
      "Epoch 37/40\n",
      "80/80 [==============================] - 3s 40ms/step - loss: 0.0671 - binary_accuracy: 0.9756 - val_loss: 0.7623 - val_binary_accuracy: 0.8028\n",
      "Epoch 38/40\n",
      "80/80 [==============================] - 3s 39ms/step - loss: 0.0816 - binary_accuracy: 0.9693 - val_loss: 0.7758 - val_binary_accuracy: 0.8022\n",
      "Epoch 39/40\n",
      "80/80 [==============================] - 3s 39ms/step - loss: 0.0965 - binary_accuracy: 0.9621 - val_loss: 0.6839 - val_binary_accuracy: 0.8145\n",
      "Epoch 40/40\n",
      "80/80 [==============================] - 3s 40ms/step - loss: 0.0905 - binary_accuracy: 0.9650 - val_loss: 0.5981 - val_binary_accuracy: 0.8131\n"
     ]
    }
   ],
   "source": [
    "model.compile(\n",
    "    optimizer=tf.keras.optimizers.Adam(epsilon=0.01),\n",
    "    loss='binary_crossentropy',\n",
    "    metrics=['binary_accuracy']\n",
    ")\n",
    "\n",
    "history = model.fit(\n",
    "    ds_train,\n",
    "    validation_data=ds_valid,\n",
    "    epochs=40,\n",
    ")\n"
   ]
  },
  {
   "cell_type": "code",
   "execution_count": 4,
   "metadata": {
    "execution": {
     "iopub.execute_input": "2020-11-11T16:40:34.098534Z",
     "iopub.status.busy": "2020-11-11T16:40:34.097403Z",
     "iopub.status.idle": "2020-11-11T16:40:34.592825Z",
     "shell.execute_reply": "2020-11-11T16:40:34.592317Z"
    },
    "lines_to_next_cell": 2,
    "papermill": {
     "duration": 1.08819,
     "end_time": "2020-11-11T16:40:34.592937",
     "exception": false,
     "start_time": "2020-11-11T16:40:33.504747",
     "status": "completed"
    },
    "tags": []
   },
   "outputs": [
    {
     "data": {
      "image/png": "[encoded data removed]",
      "text/plain": [
       "<Figure size 432x288 with 1 Axes>"
      ]
     },
     "metadata": {
      "needs_background": "light"
     },
     "output_type": "display_data"
    },
    {
     "data": {
      "image/png": "[encoded data removed]",
      "text/plain": [
       "<Figure size 432x288 with 1 Axes>"
      ]
     },
     "metadata": {
      "needs_background": "light"
     },
     "output_type": "display_data"
    }
   ],
   "source": [
    "import pandas as pd\n",
    "\n",
    "history_frame = pd.DataFrame(history.history)\n",
    "history_frame.loc[:, ['loss', 'val_loss']].plot()\n",
    "history_frame.loc[:, ['binary_accuracy', 'val_binary_accuracy']].plot();"
   ]
  },
  {
   "cell_type": "markdown",
   "metadata": {
    "papermill": {
     "duration": 0.577871,
     "end_time": "2020-11-11T16:40:35.758490",
     "exception": false,
     "start_time": "2020-11-11T16:40:35.180619",
     "status": "completed"
    },
    "tags": []
   },
   "source": [
    "This model is much smaller than the VGG16 model from Lesson 1 -- only 3 convolutional layers versus the 16 of VGG16. It was nevertheless able to fit this dataset fairly well. We might still be able to improve this simple model by adding more convolutional layers, hoping to create features better adapted to the dataset. This is what we'll try in the exercises.\n",
    "\n",
    "# Conclusion #\n",
    "\n",
    "In this tutorial, you saw how to build a custom convnet composed of many **convolutional blocks** and capable of complex feature engineering. \n",
    "\n",
    "# Your Turn #\n",
    "\n",
    "In the exercises, you'll create a convnet that performs as well on this problem as VGG16 does -- without pretraining! [**Try it now!**](https://www.kaggle.com/kernels/fork/11989565)"
   ]
  },
  {
   "cell_type": "markdown",
   "metadata": {
    "papermill": {
     "duration": 0.889469,
     "end_time": "2020-11-11T16:40:37.220216",
     "exception": false,
     "start_time": "2020-11-11T16:40:36.330747",
     "status": "completed"
    },
    "tags": []
   },
   "source": [
    "---\n",
    "\n",
    "\n",
    "\n",
    "\n",
    "*Have questions or comments? Visit the [Learn Discussion forum](https://www.kaggle.com/learn-forum/196537) to chat with other Learners.*"
   ]
  }
 ],
 "metadata": {
  "jupytext": {
   "formats": "md,ipynb"
  },
  "kernelspec": {
   "display_name": "Python 3",
   "language": "python",
   "name": "python3"
  },
  "language_info": {
   "codemirror_mode": {
    "name": "ipython",
    "version": 3
   },
   "file_extension": ".py",
   "mimetype": "text/x-python",
   "name": "python",
   "nbconvert_exporter": "python",
   "pygments_lexer": "ipython3",
   "version": "3.7.6"
  },
  "papermill": {
   "duration": 171.879579,
   "end_time": "2020-11-11T16:40:39.576730",
   "environment_variables": {},
   "exception": null,
   "input_path": "__notebook__.ipynb",
   "output_path": "__notebook__.ipynb",
   "parameters": {},
   "start_time": "2020-11-11T16:37:47.697151",
   "version": "2.1.0"
  }
 },
 "nbformat": 4,
 "nbformat_minor": 4
}
