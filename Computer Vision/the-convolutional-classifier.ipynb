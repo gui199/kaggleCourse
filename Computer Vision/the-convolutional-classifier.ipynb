{
 "cells": [
  {
   "cell_type": "markdown",
   "metadata": {
    "papermill": {
     "duration": 0.014475,
     "end_time": "2020-11-11T16:37:59.208356",
     "exception": false,
     "start_time": "2020-11-11T16:37:59.193881",
     "status": "completed"
    },
    "tags": []
   },
   "source": [
    "# Welcome to Computer Vision! #\n",
    "\n",
    "Have you ever wanted to teach a computer to see? In this course, that's exactly what you'll do!\n",
    "\n",
    "<!-- <center> -->\n",
    "<!-- <\\!-- <img src=\"./images/1-header.png\" width=\"1600\" alt=\"Header illustration: a line of cars.\"> -\\-> -->\n",
    "<!-- <img src=\"\" width=\"1600\" alt=\"Header illustration\"> -->\n",
    "<!-- </center> -->\n",
    "\n",
    "In this course, you'll:\n",
    "- Use modern deep-learning networks to build an **image classifier** with Keras\n",
    "- Design your own **custom convnet** with reusable blocks\n",
    "- Learn the fundamental ideas behind visual **feature extraction**\n",
    "- Master the art of **transfer learning** to boost your models\n",
    "- Utilize **data augmentation** to extend your dataset\n",
    "\n",
    "If you've taken the *Introduction to Deep Learning* course, you'll know everything you need to be successful.\n",
    "\n",
    "Now let's get started!"
   ]
  },
  {
   "cell_type": "markdown",
   "metadata": {
    "papermill": {
     "duration": 0.011346,
     "end_time": "2020-11-11T16:37:59.231322",
     "exception": false,
     "start_time": "2020-11-11T16:37:59.219976",
     "status": "completed"
    },
    "tags": []
   },
   "source": [
    "# Introduction #\n",
    "\n",
    "This course will introduce you to the fundamental ideas of computer vision. Our goal is to learn how a neural network can \"understand\" a natural image well-enough to solve the same kinds of problems the human visual system can solve.\n",
    "\n",
    "The neural networks that are best at this task are called **convolutional neural networks** (Sometimes we say **convnet** or **CNN** instead.) Convolution is the mathematical operation that gives the layers of a convnet their unique structure. In future lessons, you'll learn why this structure is so effective at solving computer vision problems.\n",
    "\n",
    "We will apply these ideas to the problem of **image classification**: given a picture, can we train a computer to tell us what it's a picture *of*? You may have seen [apps](https://identify.plantnet.org/) that can identify a species of plant from a photograph. That's an image classifier! In this course, you'll learn how to build image classifiers just as powerful as those used in professional applications.\n",
    "\n",
    "While our focus will be on image classification, what you'll learn in this course is relevant to every kind of computer vision problem. At the end, you'll be ready to move on to more advanced applications like [generative adversarial networks](https://www.kaggle.com/tags/gan) and [image segmentation](https://www.kaggle.com/tags/object-segmentation)."
   ]
  },
  {
   "cell_type": "markdown",
   "metadata": {
    "papermill": {
     "duration": 0.011203,
     "end_time": "2020-11-11T16:37:59.253934",
     "exception": false,
     "start_time": "2020-11-11T16:37:59.242731",
     "status": "completed"
    },
    "tags": []
   },
   "source": [
    "# The Convolutional Classifier #\n",
    "\n",
    "A convnet used for image classification consists of two parts: a **convolutional base** and a **dense head**.\n",
    "\n",
    "<center>\n",
    "<!-- <img src=\"./images/1-parts-of-a-convnet.png\" width=\"600\" alt=\"The parts of a convnet: image, base, head, class; input, extract, classify, output.\">-->\n",
    "<img src=\"https://i.imgur.com/U0n5xjU.png\" width=\"600\" alt=\"The parts of a convnet: image, base, head, class; input, extract, classify, output.\">\n",
    "</center>\n",
    "\n",
    "The base is used to **extract the features** from an image. It is formed primarily of layers performing the convolution operation, but often includes other kinds of layers as well. (You'll learn about these in the next lesson.)\n",
    "\n",
    "The head is used to **determine the class** of the image. It is formed primarily of dense layers, but might include other layers like dropout. \n",
    "\n",
    "What do we mean by visual feature? A feature could be a line, a color, a texture, a shape, a pattern -- or some complicated combination.\n",
    "\n",
    "The whole process goes something like this:\n",
    "\n",
    "<center>\n",
    "<!-- <img src=\"./images/1-extract-classify.png\" width=\"600\" alt=\"The idea of feature extraction.\"> -->\n",
    "<img src=\"https://i.imgur.com/UUAafkn.png\" width=\"600\" alt=\"The idea of feature extraction.\">\n",
    "</center>\n",
    "\n",
    "The features actually extracted look a bit different, but it gives the idea."
   ]
  },
  {
   "cell_type": "markdown",
   "metadata": {
    "papermill": {
     "duration": 0.010799,
     "end_time": "2020-11-11T16:37:59.276022",
     "exception": false,
     "start_time": "2020-11-11T16:37:59.265223",
     "status": "completed"
    },
    "tags": []
   },
   "source": [
    "# Training the Classifier #\n",
    "\n",
    "The goal of the network during training is to learn two things:\n",
    "1. which features to extract from an image (base),\n",
    "2. which class goes with what features (head).\n",
    "\n",
    "These days, convnets are rarely trained from scratch. More often, we **reuse the base of a pretrained model**. To the pretrained base we then **attach an untrained head**. In other words, we reuse the part of a network that has already learned to do *1. Extract features*, and attach to it some fresh layers to learn *2. Classify*.\n",
    "\n",
    "<center>\n",
    "<!-- <img src=\"./images/1-attach-head-to-base.png\" width=\"400\" alt=\"Attaching a new head to a trained base.\"> -->\n",
    "<img src=\"https://imgur.com/E49fsmV.png\" width=\"400\" alt=\"Attaching a new head to a trained base.\">\n",
    "</center>\n",
    "\n",
    "Because the head usually consists of only a few dense layers, very accurate classifiers can be created from relatively little data. \n",
    "\n",
    "Reusing a pretrained model is a technique known as **transfer learning**. It is so effective, that almost every image classifier these days will make use of it."
   ]
  },
  {
   "cell_type": "markdown",
   "metadata": {
    "papermill": {
     "duration": 0.011144,
     "end_time": "2020-11-11T16:37:59.298704",
     "exception": false,
     "start_time": "2020-11-11T16:37:59.287560",
     "status": "completed"
    },
    "tags": []
   },
   "source": [
    "# Example - Train a Convnet Classifier #\n",
    "\n",
    "Throughout this course, we're going to be creating classifiers that attempt to solve the following problem: is this a picture of a *Car* or of a *Truck*? Our dataset is about 10,000 pictures of various automobiles, around half cars and half trucks."
   ]
  },
  {
   "cell_type": "markdown",
   "metadata": {
    "papermill": {
     "duration": 0.01108,
     "end_time": "2020-11-11T16:37:59.321008",
     "exception": false,
     "start_time": "2020-11-11T16:37:59.309928",
     "status": "completed"
    },
    "tags": []
   },
   "source": [
    "## Step 1 - Load Data ##\n",
    "\n",
    "This next hidden cell will import some libraries and set up our data pipeline. We have a training split called `ds_train` and a validation split called `ds_valid`."
   ]
  },
  {
   "cell_type": "code",
   "execution_count": 1,
   "metadata": {
    "_kg_hide-input": true,
    "execution": {
     "iopub.execute_input": "2020-11-11T16:37:59.360715Z",
     "iopub.status.busy": "2020-11-11T16:37:59.359930Z",
     "iopub.status.idle": "2020-11-11T16:38:08.511197Z",
     "shell.execute_reply": "2020-11-11T16:38:08.510666Z"
    },
    "papermill": {
     "duration": 9.179077,
     "end_time": "2020-11-11T16:38:08.511310",
     "exception": false,
     "start_time": "2020-11-11T16:37:59.332233",
     "status": "completed"
    },
    "tags": []
   },
   "outputs": [
    {
     "name": "stdout",
     "output_type": "stream",
     "text": [
      "Found 5117 files belonging to 2 classes.\n",
      "Found 5051 files belonging to 2 classes.\n"
     ]
    }
   ],
   "source": [
    "\n",
    "# Imports\n",
    "import os, warnings\n",
    "import matplotlib.pyplot as plt\n",
    "from matplotlib import gridspec\n",
    "\n",
    "import numpy as np\n",
    "import tensorflow as tf\n",
    "from tensorflow.keras.preprocessing import image_dataset_from_directory\n",
    "\n",
    "# Reproducability\n",
    "def set_seed(seed=31415):\n",
    "    np.random.seed(seed)\n",
    "    tf.random.set_seed(seed)\n",
    "    os.environ['PYTHONHASHSEED'] = str(seed)\n",
    "    os.environ['TF_DETERMINISTIC_OPS'] = '1'\n",
    "set_seed(31415)\n",
    "\n",
    "# Set Matplotlib defaults\n",
    "plt.rc('figure', autolayout=True)\n",
    "plt.rc('axes', labelweight='bold', labelsize='large',\n",
    "       titleweight='bold', titlesize=18, titlepad=10)\n",
    "plt.rc('image', cmap='magma')\n",
    "warnings.filterwarnings(\"ignore\") # to clean up output cells\n",
    "\n",
    "\n",
    "# Load training and validation sets\n",
    "ds_train_ = image_dataset_from_directory(\n",
    "    '../input/car-or-truck/train',\n",
    "    labels='inferred',\n",
    "    label_mode='binary',\n",
    "    image_size=[128, 128],\n",
    "    interpolation='nearest',\n",
    "    batch_size=64,\n",
    "    shuffle=True,\n",
    ")\n",
    "ds_valid_ = image_dataset_from_directory(\n",
    "    '../input/car-or-truck/valid',\n",
    "    labels='inferred',\n",
    "    label_mode='binary',\n",
    "    image_size=[128, 128],\n",
    "    interpolation='nearest',\n",
    "    batch_size=64,\n",
    "    shuffle=False,\n",
    ")\n",
    "\n",
    "# Data Pipeline\n",
    "def convert_to_float(image, label):\n",
    "    image = tf.image.convert_image_dtype(image, dtype=tf.float32)\n",
    "    return image, label\n",
    "\n",
    "AUTOTUNE = tf.data.experimental.AUTOTUNE\n",
    "ds_train = (\n",
    "    ds_train_\n",
    "    .map(convert_to_float)\n",
    "    .cache()\n",
    "    .prefetch(buffer_size=AUTOTUNE)\n",
    ")\n",
    "ds_valid = (\n",
    "    ds_valid_\n",
    "    .map(convert_to_float)\n",
    "    .cache()\n",
    "    .prefetch(buffer_size=AUTOTUNE)\n",
    ")\n"
   ]
  },
  {
   "cell_type": "markdown",
   "metadata": {
    "papermill": {
     "duration": 0.011791,
     "end_time": "2020-11-11T16:38:08.535611",
     "exception": false,
     "start_time": "2020-11-11T16:38:08.523820",
     "status": "completed"
    },
    "tags": []
   },
   "source": [
    "Let's take a look at a few examples from the training set."
   ]
  },
  {
   "cell_type": "code",
   "execution_count": 2,
   "metadata": {
    "_kg_hide-input": true,
    "execution": {
     "iopub.execute_input": "2020-11-11T16:38:08.564918Z",
     "iopub.status.busy": "2020-11-11T16:38:08.563163Z",
     "iopub.status.idle": "2020-11-11T16:38:08.565656Z",
     "shell.execute_reply": "2020-11-11T16:38:08.566114Z"
    },
    "papermill": {
     "duration": 0.018677,
     "end_time": "2020-11-11T16:38:08.566236",
     "exception": false,
     "start_time": "2020-11-11T16:38:08.547559",
     "status": "completed"
    },
    "tags": []
   },
   "outputs": [],
   "source": [
    "\n",
    "import matplotlib.pyplot as plt"
   ]
  },
  {
   "cell_type": "markdown",
   "metadata": {
    "papermill": {
     "duration": 0.011997,
     "end_time": "2020-11-11T16:38:08.590463",
     "exception": false,
     "start_time": "2020-11-11T16:38:08.578466",
     "status": "completed"
    },
    "tags": []
   },
   "source": [
    "## Step 2 - Define Pretrained Base ##\n",
    "\n",
    "The most commonly used dataset for pretraining is [*ImageNet*](http://image-net.org/about-overview), a large dataset of many kind of natural images. Keras includes a variety models pretrained on ImageNet in its [`applications` module](https://www.tensorflow.org/api_docs/python/tf/keras/applications). The pretrained model we'll use is called **VGG16**."
   ]
  },
  {
   "cell_type": "code",
   "execution_count": 3,
   "metadata": {
    "execution": {
     "iopub.execute_input": "2020-11-11T16:38:08.618200Z",
     "iopub.status.busy": "2020-11-11T16:38:08.617613Z",
     "iopub.status.idle": "2020-11-11T16:38:09.940493Z",
     "shell.execute_reply": "2020-11-11T16:38:09.939581Z"
    },
    "papermill": {
     "duration": 1.338221,
     "end_time": "2020-11-11T16:38:09.940620",
     "exception": false,
     "start_time": "2020-11-11T16:38:08.602399",
     "status": "completed"
    },
    "tags": []
   },
   "outputs": [],
   "source": [
    "pretrained_base = tf.keras.models.load_model(\n",
    "    '../input/cv-course-models/cv-course-models/vgg16-pretrained-base',\n",
    ")\n",
    "pretrained_base.trainable = False"
   ]
  },
  {
   "cell_type": "markdown",
   "metadata": {
    "papermill": {
     "duration": 0.012056,
     "end_time": "2020-11-11T16:38:09.965041",
     "exception": false,
     "start_time": "2020-11-11T16:38:09.952985",
     "status": "completed"
    },
    "tags": []
   },
   "source": [
    "## Step 3 - Attach Head ##\n",
    "\n",
    "Next, we attach the classifier head. For this example, we'll use a layer of hidden units (the first `Dense` layer) followed by a layer to transform the outputs to a probability score for class 1, `Truck`. The `Flatten` layer transforms the two dimensional outputs of the base into the one dimensional inputs needed by the head."
   ]
  },
  {
   "cell_type": "code",
   "execution_count": 4,
   "metadata": {
    "execution": {
     "iopub.execute_input": "2020-11-11T16:38:10.000057Z",
     "iopub.status.busy": "2020-11-11T16:38:09.999152Z",
     "iopub.status.idle": "2020-11-11T16:38:10.057620Z",
     "shell.execute_reply": "2020-11-11T16:38:10.056924Z"
    },
    "papermill": {
     "duration": 0.080456,
     "end_time": "2020-11-11T16:38:10.057726",
     "exception": false,
     "start_time": "2020-11-11T16:38:09.977270",
     "status": "completed"
    },
    "tags": []
   },
   "outputs": [],
   "source": [
    "import tensorflow.keras as keras\n",
    "import tensorflow.keras.layers as layers\n",
    "\n",
    "model = keras.Sequential([\n",
    "    pretrained_base,\n",
    "    layers.Flatten(),\n",
    "    layers.Dense(6, activation='relu'),\n",
    "    layers.Dense(1, activation='sigmoid'),\n",
    "])"
   ]
  },
  {
   "cell_type": "markdown",
   "metadata": {
    "papermill": {
     "duration": 0.012161,
     "end_time": "2020-11-11T16:38:10.082370",
     "exception": false,
     "start_time": "2020-11-11T16:38:10.070209",
     "status": "completed"
    },
    "tags": []
   },
   "source": [
    "## Step 4 - Train ##\n",
    "\n",
    "Finally, let's train the model. Since this is a two-class problem, we'll use the binary versions of `crossentropy` and `accuracy`. The `adam` optimizer generally performs well, so we'll choose it as well."
   ]
  },
  {
   "cell_type": "code",
   "execution_count": 5,
   "metadata": {
    "execution": {
     "iopub.execute_input": "2020-11-11T16:38:10.119185Z",
     "iopub.status.busy": "2020-11-11T16:38:10.118310Z",
     "iopub.status.idle": "2020-11-11T16:46:28.077168Z",
     "shell.execute_reply": "2020-11-11T16:46:28.076614Z"
    },
    "papermill": {
     "duration": 497.982486,
     "end_time": "2020-11-11T16:46:28.077291",
     "exception": false,
     "start_time": "2020-11-11T16:38:10.094805",
     "status": "completed"
    },
    "tags": []
   },
   "outputs": [
    {
     "name": "stdout",
     "output_type": "stream",
     "text": [
      "Epoch 1/30\n",
      "80/80 [==============================] - 28s 348ms/step - loss: 0.4754 - binary_accuracy: 0.7723 - val_loss: 0.3734 - val_binary_accuracy: 0.8390\n",
      "Epoch 2/30\n",
      "80/80 [==============================] - 16s 199ms/step - loss: 0.3473 - binary_accuracy: 0.8525 - val_loss: 0.3397 - val_binary_accuracy: 0.8559\n",
      "Epoch 3/30\n",
      "80/80 [==============================] - 16s 199ms/step - loss: 0.2982 - binary_accuracy: 0.8800 - val_loss: 0.3264 - val_binary_accuracy: 0.8628\n",
      "Epoch 4/30\n",
      "80/80 [==============================] - 16s 199ms/step - loss: 0.2643 - binary_accuracy: 0.8970 - val_loss: 0.3207 - val_binary_accuracy: 0.8666\n",
      "Epoch 5/30\n",
      "80/80 [==============================] - 16s 198ms/step - loss: 0.2381 - binary_accuracy: 0.9105 - val_loss: 0.3174 - val_binary_accuracy: 0.8652\n",
      "Epoch 6/30\n",
      "80/80 [==============================] - 16s 198ms/step - loss: 0.2168 - binary_accuracy: 0.9222 - val_loss: 0.3138 - val_binary_accuracy: 0.8687\n",
      "Epoch 7/30\n",
      "80/80 [==============================] - 16s 200ms/step - loss: 0.1994 - binary_accuracy: 0.9324 - val_loss: 0.3085 - val_binary_accuracy: 0.8737\n",
      "Epoch 8/30\n",
      "80/80 [==============================] - 16s 198ms/step - loss: 0.1860 - binary_accuracy: 0.9365 - val_loss: 0.3055 - val_binary_accuracy: 0.8731\n",
      "Epoch 9/30\n",
      "80/80 [==============================] - 16s 198ms/step - loss: 0.1785 - binary_accuracy: 0.9388 - val_loss: 0.3187 - val_binary_accuracy: 0.8668\n",
      "Epoch 10/30\n",
      "80/80 [==============================] - 16s 199ms/step - loss: 0.1848 - binary_accuracy: 0.9304 - val_loss: 0.3743 - val_binary_accuracy: 0.8483\n",
      "Epoch 11/30\n",
      "80/80 [==============================] - 16s 199ms/step - loss: 0.2156 - binary_accuracy: 0.9060 - val_loss: 0.3296 - val_binary_accuracy: 0.8676\n",
      "Epoch 12/30\n",
      "80/80 [==============================] - 16s 198ms/step - loss: 0.1935 - binary_accuracy: 0.9201 - val_loss: 0.3721 - val_binary_accuracy: 0.8503\n",
      "Epoch 13/30\n",
      "80/80 [==============================] - 16s 198ms/step - loss: 0.1781 - binary_accuracy: 0.9293 - val_loss: 0.3399 - val_binary_accuracy: 0.8660\n",
      "Epoch 14/30\n",
      "80/80 [==============================] - 16s 199ms/step - loss: 0.1665 - binary_accuracy: 0.9320 - val_loss: 0.3285 - val_binary_accuracy: 0.8745\n",
      "Epoch 15/30\n",
      "80/80 [==============================] - 16s 198ms/step - loss: 0.1364 - binary_accuracy: 0.9474 - val_loss: 0.3659 - val_binary_accuracy: 0.8582\n",
      "Epoch 16/30\n",
      "80/80 [==============================] - 16s 199ms/step - loss: 0.1104 - binary_accuracy: 0.9652 - val_loss: 0.3790 - val_binary_accuracy: 0.8557\n",
      "Epoch 17/30\n",
      "80/80 [==============================] - 16s 197ms/step - loss: 0.0940 - binary_accuracy: 0.9752 - val_loss: 0.3819 - val_binary_accuracy: 0.8541\n",
      "Epoch 18/30\n",
      "80/80 [==============================] - 16s 199ms/step - loss: 0.0835 - binary_accuracy: 0.9824 - val_loss: 0.3846 - val_binary_accuracy: 0.8555\n",
      "Epoch 19/30\n",
      "80/80 [==============================] - 16s 198ms/step - loss: 0.0757 - binary_accuracy: 0.9844 - val_loss: 0.3880 - val_binary_accuracy: 0.8565\n",
      "Epoch 20/30\n",
      "80/80 [==============================] - 16s 199ms/step - loss: 0.0692 - binary_accuracy: 0.9869 - val_loss: 0.3922 - val_binary_accuracy: 0.8565\n",
      "Epoch 21/30\n",
      "80/80 [==============================] - 16s 199ms/step - loss: 0.0638 - binary_accuracy: 0.9881 - val_loss: 0.3967 - val_binary_accuracy: 0.8559\n",
      "Epoch 22/30\n",
      "80/80 [==============================] - 16s 201ms/step - loss: 0.0590 - binary_accuracy: 0.9896 - val_loss: 0.4021 - val_binary_accuracy: 0.8553\n",
      "Epoch 23/30\n",
      "80/80 [==============================] - 16s 199ms/step - loss: 0.0548 - binary_accuracy: 0.9922 - val_loss: 0.4074 - val_binary_accuracy: 0.8551\n",
      "Epoch 24/30\n",
      "80/80 [==============================] - 16s 199ms/step - loss: 0.0510 - binary_accuracy: 0.9936 - val_loss: 0.4135 - val_binary_accuracy: 0.8549\n",
      "Epoch 25/30\n",
      "80/80 [==============================] - 16s 199ms/step - loss: 0.0476 - binary_accuracy: 0.9943 - val_loss: 0.4195 - val_binary_accuracy: 0.8551\n",
      "Epoch 26/30\n",
      "80/80 [==============================] - 16s 200ms/step - loss: 0.0446 - binary_accuracy: 0.9953 - val_loss: 0.4263 - val_binary_accuracy: 0.8551\n",
      "Epoch 27/30\n",
      "80/80 [==============================] - 16s 199ms/step - loss: 0.0420 - binary_accuracy: 0.9959 - val_loss: 0.4342 - val_binary_accuracy: 0.8549\n",
      "Epoch 28/30\n",
      "80/80 [==============================] - 16s 199ms/step - loss: 0.0399 - binary_accuracy: 0.9967 - val_loss: 0.4430 - val_binary_accuracy: 0.8545\n",
      "Epoch 29/30\n",
      "80/80 [==============================] - 16s 201ms/step - loss: 0.0382 - binary_accuracy: 0.9969 - val_loss: 0.4535 - val_binary_accuracy: 0.8541\n",
      "Epoch 30/30\n",
      "80/80 [==============================] - 16s 199ms/step - loss: 0.0369 - binary_accuracy: 0.9973 - val_loss: 0.4653 - val_binary_accuracy: 0.8543\n"
     ]
    }
   ],
   "source": [
    "model.compile(\n",
    "    optimizer='adam',\n",
    "    loss='binary_crossentropy',\n",
    "    metrics=['binary_accuracy'],\n",
    ")\n",
    "\n",
    "history = model.fit(\n",
    "    ds_train,\n",
    "    validation_data=ds_valid,\n",
    "    epochs=30,\n",
    ")"
   ]
  },
  {
   "cell_type": "markdown",
   "metadata": {
    "papermill": {
     "duration": 0.841526,
     "end_time": "2020-11-11T16:46:29.756705",
     "exception": false,
     "start_time": "2020-11-11T16:46:28.915179",
     "status": "completed"
    },
    "tags": []
   },
   "source": [
    "When training a neural network, it's always a good idea to examine the loss and metric plots. The `history` object contains this information in a dictionary `history.history`. We can use Pandas to convert this dictionary to a dataframe and plot it with a built-in method."
   ]
  },
  {
   "cell_type": "code",
   "execution_count": 6,
   "metadata": {
    "execution": {
     "iopub.execute_input": "2020-11-11T16:46:31.461782Z",
     "iopub.status.busy": "2020-11-11T16:46:31.461102Z",
     "iopub.status.idle": "2020-11-11T16:46:31.953905Z",
     "shell.execute_reply": "2020-11-11T16:46:31.955079Z"
    },
    "papermill": {
     "duration": 1.35729,
     "end_time": "2020-11-11T16:46:31.955277",
     "exception": false,
     "start_time": "2020-11-11T16:46:30.597987",
     "status": "completed"
    },
    "tags": []
   },
   "outputs": [
    {
     "data": {
      "image/png": "[encoded data removed]",
      "text/plain": [
       "<Figure size 432x288 with 1 Axes>"
      ]
     },
     "metadata": {
      "needs_background": "light"
     },
     "output_type": "display_data"
    },
    {
     "data": {
      "image/png": "[encoded data removed]",
      "text/plain": [
       "<Figure size 432x288 with 1 Axes>"
      ]
     },
     "metadata": {
      "needs_background": "light"
     },
     "output_type": "display_data"
    }
   ],
   "source": [
    "import pandas as pd\n",
    "\n",
    "history_frame = pd.DataFrame(history.history)\n",
    "history_frame.loc[:, ['loss', 'val_loss']].plot()\n",
    "history_frame.loc[:, ['binary_accuracy', 'val_binary_accuracy']].plot();"
   ]
  },
  {
   "cell_type": "markdown",
   "metadata": {
    "papermill": {
     "duration": 0.861339,
     "end_time": "2020-11-11T16:46:33.836414",
     "exception": false,
     "start_time": "2020-11-11T16:46:32.975075",
     "status": "completed"
    },
    "tags": []
   },
   "source": [
    "# Conclusion #\n",
    "\n",
    "In this lesson, we learned about the structure of a convnet classifier: a **head** to act as a classifier atop of a **base** which performs the feature extraction.\n",
    "\n",
    "The head, essentially, is an ordinary classifier like you learned about in the introductory course. For features, it uses those features extracted by the base. This is the basic idea behind convolutional classifiers: that we can attach a unit that performs feature engineering to the classifier itself.\n",
    "\n",
    "This is one of the big advantages deep neural networks have over traditional machine learning models: given the right network structure, the deep neural net can learn how to engineer the features it needs to solve its problem.\n",
    "\n",
    "For the next few lessons, we'll take a look at how the convolutional base accomplishes the feature extraction. Then, you'll learn how to apply these ideas and design some classifiers of your own."
   ]
  },
  {
   "cell_type": "markdown",
   "metadata": {
    "papermill": {
     "duration": 0.85416,
     "end_time": "2020-11-11T16:46:35.546275",
     "exception": false,
     "start_time": "2020-11-11T16:46:34.692115",
     "status": "completed"
    },
    "tags": []
   },
   "source": [
    "# Your Turn #\n",
    "\n",
    "For now, move on to the [**Exercise**](https://www.kaggle.com/kernels/fork/10781907) and build your own image classifier!"
   ]
  },
  {
   "cell_type": "markdown",
   "metadata": {
    "papermill": {
     "duration": 0.843877,
     "end_time": "2020-11-11T16:46:37.261962",
     "exception": false,
     "start_time": "2020-11-11T16:46:36.418085",
     "status": "completed"
    },
    "tags": []
   },
   "source": [
    "---\n",
    "\n",
    "\n",
    "\n",
    "\n",
    "*Have questions or comments? Visit the [Learn Discussion forum](https://www.kaggle.com/learn-forum/196537) to chat with other Learners.*"
   ]
  }
 ],
 "metadata": {
  "jupytext": {
   "formats": "ipynb,md",
   "split_at_heading": true
  },
  "kernelspec": {
   "display_name": "Python 3",
   "language": "python",
   "name": "python3"
  },
  "language_info": {
   "codemirror_mode": {
    "name": "ipython",
    "version": 3
   },
   "file_extension": ".py",
   "mimetype": "text/x-python",
   "name": "python",
   "nbconvert_exporter": "python",
   "pygments_lexer": "ipython3",
   "version": "3.7.6"
  },
  "papermill": {
   "duration": 524.032434,
   "end_time": "2020-11-11T16:46:39.377592",
   "environment_variables": {},
   "exception": null,
   "input_path": "__notebook__.ipynb",
   "output_path": "__notebook__.ipynb",
   "parameters": {},
   "start_time": "2020-11-11T16:37:55.345158",
   "version": "2.1.0"
  }
 },
 "nbformat": 4,
 "nbformat_minor": 4
}
